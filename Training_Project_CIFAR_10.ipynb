{
  "nbformat": 4,
  "nbformat_minor": 0,
  "metadata": {
    "colab": {
      "name": "Training Project CIFAR-10.ipynb",
      "provenance": [],
      "collapsed_sections": [],
      "authorship_tag": "ABX9TyPuK9jQCuQz9aVsjSboz4SR",
      "include_colab_link": true
    },
    "kernelspec": {
      "name": "python3",
      "display_name": "Python 3"
    },
    "language_info": {
      "name": "python"
    },
    "accelerator": "GPU"
  },
  "cells": [
    {
      "cell_type": "markdown",
      "metadata": {
        "id": "view-in-github",
        "colab_type": "text"
      },
      "source": [
        "<a href=\"https://colab.research.google.com/github/LucasColas/Project-with-CIFAR-10/blob/main/Training_Project_CIFAR_10.ipynb\" target=\"_parent\"><img src=\"https://colab.research.google.com/assets/colab-badge.svg\" alt=\"Open In Colab\"/></a>"
      ]
    },
    {
      "cell_type": "code",
      "metadata": {
        "colab": {
          "base_uri": "https://localhost:8080/"
        },
        "id": "eLfXFTQGuR9P",
        "outputId": "7500e513-7b70-4de7-e103-fe1cf2f52c06"
      },
      "source": [
        "import matplotlib.pyplot as plt\n",
        "import numpy as np\n",
        "import tensorflow as tf\n",
        "from tensorflow import keras\n",
        "#from tensorflow.keras.applications import VGG16\n",
        "from tensorflow.keras import layers, models, optimizers, regularizers\n",
        "from tensorflow.keras.applications.vgg16 import VGG16\n",
        "\n",
        "VGG_model = VGG16(weights=\"imagenet\", include_top=False, input_shape=(32,32,3))\n",
        "VGG_model.summary()\n",
        "\n",
        "(X_train, y_train), (X_test, y_test) = keras.datasets.cifar10.load_data()\n",
        "X_train = X_train.astype('float32')\n",
        "X_test = X_test.astype('float32')\n",
        "print(X_train.dtype, y_train.shape, X_test.shape, y_test.shape)"
      ],
      "execution_count": 1,
      "outputs": [
        {
          "output_type": "stream",
          "text": [
            "Downloading data from https://storage.googleapis.com/tensorflow/keras-applications/vgg16/vgg16_weights_tf_dim_ordering_tf_kernels_notop.h5\n",
            "58892288/58889256 [==============================] - 0s 0us/step\n",
            "Model: \"vgg16\"\n",
            "_________________________________________________________________\n",
            "Layer (type)                 Output Shape              Param #   \n",
            "=================================================================\n",
            "input_1 (InputLayer)         [(None, 32, 32, 3)]       0         \n",
            "_________________________________________________________________\n",
            "block1_conv1 (Conv2D)        (None, 32, 32, 64)        1792      \n",
            "_________________________________________________________________\n",
            "block1_conv2 (Conv2D)        (None, 32, 32, 64)        36928     \n",
            "_________________________________________________________________\n",
            "block1_pool (MaxPooling2D)   (None, 16, 16, 64)        0         \n",
            "_________________________________________________________________\n",
            "block2_conv1 (Conv2D)        (None, 16, 16, 128)       73856     \n",
            "_________________________________________________________________\n",
            "block2_conv2 (Conv2D)        (None, 16, 16, 128)       147584    \n",
            "_________________________________________________________________\n",
            "block2_pool (MaxPooling2D)   (None, 8, 8, 128)         0         \n",
            "_________________________________________________________________\n",
            "block3_conv1 (Conv2D)        (None, 8, 8, 256)         295168    \n",
            "_________________________________________________________________\n",
            "block3_conv2 (Conv2D)        (None, 8, 8, 256)         590080    \n",
            "_________________________________________________________________\n",
            "block3_conv3 (Conv2D)        (None, 8, 8, 256)         590080    \n",
            "_________________________________________________________________\n",
            "block3_pool (MaxPooling2D)   (None, 4, 4, 256)         0         \n",
            "_________________________________________________________________\n",
            "block4_conv1 (Conv2D)        (None, 4, 4, 512)         1180160   \n",
            "_________________________________________________________________\n",
            "block4_conv2 (Conv2D)        (None, 4, 4, 512)         2359808   \n",
            "_________________________________________________________________\n",
            "block4_conv3 (Conv2D)        (None, 4, 4, 512)         2359808   \n",
            "_________________________________________________________________\n",
            "block4_pool (MaxPooling2D)   (None, 2, 2, 512)         0         \n",
            "_________________________________________________________________\n",
            "block5_conv1 (Conv2D)        (None, 2, 2, 512)         2359808   \n",
            "_________________________________________________________________\n",
            "block5_conv2 (Conv2D)        (None, 2, 2, 512)         2359808   \n",
            "_________________________________________________________________\n",
            "block5_conv3 (Conv2D)        (None, 2, 2, 512)         2359808   \n",
            "_________________________________________________________________\n",
            "block5_pool (MaxPooling2D)   (None, 1, 1, 512)         0         \n",
            "=================================================================\n",
            "Total params: 14,714,688\n",
            "Trainable params: 14,714,688\n",
            "Non-trainable params: 0\n",
            "_________________________________________________________________\n",
            "Downloading data from https://www.cs.toronto.edu/~kriz/cifar-10-python.tar.gz\n",
            "170500096/170498071 [==============================] - 4s 0us/step\n",
            "float32 (50000, 1) (10000, 32, 32, 3) (10000, 1)\n"
          ],
          "name": "stdout"
        }
      ]
    },
    {
      "cell_type": "code",
      "metadata": {
        "id": "nxMxJk2KuZzE"
      },
      "source": [
        "def sort_labels(y_train, y_test):\n",
        "\n",
        "    Y_train = np.zeros((50000,10))\n",
        "    Y_test = np.zeros((10000,10))\n",
        "    for index, label in enumerate(y_train):\n",
        "        Y_train[index, label] = 1\n",
        "\n",
        "    for index, label in enumerate(y_test):\n",
        "        Y_test[index, label] = 1\n",
        "\n",
        "\n",
        "    return Y_train, Y_test\n",
        "\n",
        "Y_train, Y_test = sort_labels(y_train, y_test)"
      ],
      "execution_count": 19,
      "outputs": []
    },
    {
      "cell_type": "code",
      "metadata": {
        "id": "QxvcPFqpf8ro"
      },
      "source": [
        "VGG_model.trainable = True\n",
        "set_trainable = False\n",
        "for layer in VGG_model.layers:\n",
        "  #print(layer.name)\n",
        "  if layer.name == 'block5_conv2':\n",
        "    set_trainable = True\n",
        "  \n",
        "  if set_trainable:\n",
        "    layer.trainable = True \n",
        "\n",
        "  else:\n",
        "    layer.trainable = False"
      ],
      "execution_count": 13,
      "outputs": []
    },
    {
      "cell_type": "code",
      "metadata": {
        "colab": {
          "base_uri": "https://localhost:8080/"
        },
        "id": "O_bs_U-5gMsB",
        "outputId": "b3008aff-0e67-4d80-8ef4-77902eb41ac8"
      },
      "source": [
        "VGG_model.summary()"
      ],
      "execution_count": 14,
      "outputs": [
        {
          "output_type": "stream",
          "text": [
            "Model: \"vgg16\"\n",
            "_________________________________________________________________\n",
            "Layer (type)                 Output Shape              Param #   \n",
            "=================================================================\n",
            "input_1 (InputLayer)         [(None, 32, 32, 3)]       0         \n",
            "_________________________________________________________________\n",
            "block1_conv1 (Conv2D)        (None, 32, 32, 64)        1792      \n",
            "_________________________________________________________________\n",
            "block1_conv2 (Conv2D)        (None, 32, 32, 64)        36928     \n",
            "_________________________________________________________________\n",
            "block1_pool (MaxPooling2D)   (None, 16, 16, 64)        0         \n",
            "_________________________________________________________________\n",
            "block2_conv1 (Conv2D)        (None, 16, 16, 128)       73856     \n",
            "_________________________________________________________________\n",
            "block2_conv2 (Conv2D)        (None, 16, 16, 128)       147584    \n",
            "_________________________________________________________________\n",
            "block2_pool (MaxPooling2D)   (None, 8, 8, 128)         0         \n",
            "_________________________________________________________________\n",
            "block3_conv1 (Conv2D)        (None, 8, 8, 256)         295168    \n",
            "_________________________________________________________________\n",
            "block3_conv2 (Conv2D)        (None, 8, 8, 256)         590080    \n",
            "_________________________________________________________________\n",
            "block3_conv3 (Conv2D)        (None, 8, 8, 256)         590080    \n",
            "_________________________________________________________________\n",
            "block3_pool (MaxPooling2D)   (None, 4, 4, 256)         0         \n",
            "_________________________________________________________________\n",
            "block4_conv1 (Conv2D)        (None, 4, 4, 512)         1180160   \n",
            "_________________________________________________________________\n",
            "block4_conv2 (Conv2D)        (None, 4, 4, 512)         2359808   \n",
            "_________________________________________________________________\n",
            "block4_conv3 (Conv2D)        (None, 4, 4, 512)         2359808   \n",
            "_________________________________________________________________\n",
            "block4_pool (MaxPooling2D)   (None, 2, 2, 512)         0         \n",
            "_________________________________________________________________\n",
            "block5_conv1 (Conv2D)        (None, 2, 2, 512)         2359808   \n",
            "_________________________________________________________________\n",
            "block5_conv2 (Conv2D)        (None, 2, 2, 512)         2359808   \n",
            "_________________________________________________________________\n",
            "block5_conv3 (Conv2D)        (None, 2, 2, 512)         2359808   \n",
            "_________________________________________________________________\n",
            "block5_pool (MaxPooling2D)   (None, 1, 1, 512)         0         \n",
            "=================================================================\n",
            "Total params: 14,714,688\n",
            "Trainable params: 4,719,616\n",
            "Non-trainable params: 9,995,072\n",
            "_________________________________________________________________\n"
          ],
          "name": "stdout"
        }
      ]
    },
    {
      "cell_type": "code",
      "metadata": {
        "id": "IT959QAJg-au"
      },
      "source": [
        "X_train /= 255\n",
        "\n",
        "\n",
        "model = models.Sequential()\n",
        "model.add(VGG_model)\n",
        "model.add(layers.Flatten())\n",
        "model.add(layers.Dense(64, activation='relu'))\n",
        "model.add(layers.Dropout(0.25))\n",
        "model.add(layers.Dense(10, activation='softmax'))"
      ],
      "execution_count": 15,
      "outputs": []
    },
    {
      "cell_type": "code",
      "metadata": {
        "colab": {
          "base_uri": "https://localhost:8080/"
        },
        "id": "GQOOQ4fQg_ZJ",
        "outputId": "12be0d24-c578-45b1-b4c1-fff8b631c81b"
      },
      "source": [
        "model.summary()"
      ],
      "execution_count": 16,
      "outputs": [
        {
          "output_type": "stream",
          "text": [
            "Model: \"sequential_2\"\n",
            "_________________________________________________________________\n",
            "Layer (type)                 Output Shape              Param #   \n",
            "=================================================================\n",
            "vgg16 (Functional)           (None, 1, 1, 512)         14714688  \n",
            "_________________________________________________________________\n",
            "flatten_2 (Flatten)          (None, 512)               0         \n",
            "_________________________________________________________________\n",
            "dense_4 (Dense)              (None, 64)                32832     \n",
            "_________________________________________________________________\n",
            "dropout_2 (Dropout)          (None, 64)                0         \n",
            "_________________________________________________________________\n",
            "dense_5 (Dense)              (None, 10)                650       \n",
            "=================================================================\n",
            "Total params: 14,748,170\n",
            "Trainable params: 4,753,098\n",
            "Non-trainable params: 9,995,072\n",
            "_________________________________________________________________\n"
          ],
          "name": "stdout"
        }
      ]
    },
    {
      "cell_type": "code",
      "metadata": {
        "colab": {
          "base_uri": "https://localhost:8080/",
          "height": 1000
        },
        "id": "ly_KG6yAuZwY",
        "outputId": "dbdebc47-49c9-48ce-cfa1-3e877f208bf5"
      },
      "source": [
        "\n",
        "\n",
        "\n",
        "model.compile(optimizer=optimizers.SGD(lr=9e-3),loss=\"categorical_crossentropy\", metrics=[\"acc\"])\n",
        "history = model.fit(X_train, Y_train, batch_size=16, epochs=42, validation_split=(0.25))\n",
        "model.save(\"training.h5\")\n",
        "\n",
        "\n",
        "\n",
        "acc = history.history['acc']\n",
        "val_acc = history.history['val_acc']\n",
        "loss = history.history['loss']\n",
        "val_loss = history.history['val_loss']\n",
        "\n",
        "epochs = range(1,len(acc)+1)\n",
        "\n",
        "plt.plot(epochs,acc,'bo', label='Training acc')\n",
        "plt.plot(epochs, val_acc,'b', label='Validation acc')\n",
        "plt.title('Training and validation accuracy')\n",
        "plt.legend()\n",
        "\n",
        "plt.figure()\n",
        "\n",
        "plt.plot(epochs, loss, 'bo', label='Training loss')\n",
        "plt.plot(epochs, val_loss, 'b', label='Validation loss')\n",
        "plt.title('Training and validation loss')\n",
        "plt.legend()\n",
        "\n",
        "plt.show()\n"
      ],
      "execution_count": 17,
      "outputs": [
        {
          "output_type": "stream",
          "text": [
            "/usr/local/lib/python3.7/dist-packages/tensorflow/python/keras/optimizer_v2/optimizer_v2.py:375: UserWarning: The `lr` argument is deprecated, use `learning_rate` instead.\n",
            "  \"The `lr` argument is deprecated, use `learning_rate` instead.\")\n"
          ],
          "name": "stderr"
        },
        {
          "output_type": "stream",
          "text": [
            "Epoch 1/42\n",
            "2344/2344 [==============================] - 31s 13ms/step - loss: 2.3037 - acc: 0.0997 - val_loss: 2.3029 - val_acc: 0.0952\n",
            "Epoch 2/42\n",
            "2344/2344 [==============================] - 31s 13ms/step - loss: 2.3028 - acc: 0.1004 - val_loss: 2.3028 - val_acc: 0.0952\n",
            "Epoch 3/42\n",
            "2344/2344 [==============================] - 35s 15ms/step - loss: 2.3027 - acc: 0.1011 - val_loss: 2.3027 - val_acc: 0.1002\n",
            "Epoch 4/42\n",
            "2344/2344 [==============================] - 31s 13ms/step - loss: 2.3028 - acc: 0.0997 - val_loss: 2.3027 - val_acc: 0.0987\n",
            "Epoch 5/42\n",
            "2344/2344 [==============================] - 30s 13ms/step - loss: 2.3028 - acc: 0.0975 - val_loss: 2.3028 - val_acc: 0.0952\n",
            "Epoch 6/42\n",
            "2344/2344 [==============================] - 30s 13ms/step - loss: 2.3028 - acc: 0.0979 - val_loss: 2.3029 - val_acc: 0.0952\n",
            "Epoch 7/42\n",
            "2344/2344 [==============================] - 35s 15ms/step - loss: 2.3028 - acc: 0.0985 - val_loss: 2.3027 - val_acc: 0.0952\n",
            "Epoch 8/42\n",
            "2344/2344 [==============================] - 30s 13ms/step - loss: 2.3027 - acc: 0.0998 - val_loss: 2.3029 - val_acc: 0.0952\n",
            "Epoch 9/42\n",
            "2344/2344 [==============================] - 30s 13ms/step - loss: 2.3028 - acc: 0.0987 - val_loss: 2.3027 - val_acc: 0.0952\n",
            "Epoch 10/42\n",
            "2344/2344 [==============================] - 30s 13ms/step - loss: 2.3028 - acc: 0.0982 - val_loss: 2.3028 - val_acc: 0.0952\n",
            "Epoch 11/42\n",
            "2344/2344 [==============================] - 35s 15ms/step - loss: 2.3028 - acc: 0.0972 - val_loss: 2.3028 - val_acc: 0.0952\n",
            "Epoch 12/42\n",
            "2344/2344 [==============================] - 31s 13ms/step - loss: 2.3028 - acc: 0.1017 - val_loss: 2.3027 - val_acc: 0.0986\n",
            "Epoch 13/42\n",
            "2344/2344 [==============================] - 30s 13ms/step - loss: 2.3028 - acc: 0.1001 - val_loss: 2.3028 - val_acc: 0.0952\n",
            "Epoch 14/42\n",
            "2344/2344 [==============================] - 30s 13ms/step - loss: 2.3028 - acc: 0.0979 - val_loss: 2.3029 - val_acc: 0.0952\n",
            "Epoch 15/42\n",
            "2344/2344 [==============================] - 35s 15ms/step - loss: 2.3027 - acc: 0.1009 - val_loss: 2.3027 - val_acc: 0.1002\n",
            "Epoch 16/42\n",
            "2344/2344 [==============================] - 31s 13ms/step - loss: 2.3028 - acc: 0.0966 - val_loss: 2.3028 - val_acc: 0.0952\n",
            "Epoch 17/42\n",
            "2344/2344 [==============================] - 35s 15ms/step - loss: 2.3028 - acc: 0.0995 - val_loss: 2.3027 - val_acc: 0.0995\n",
            "Epoch 18/42\n",
            "2344/2344 [==============================] - 35s 15ms/step - loss: 2.3028 - acc: 0.0985 - val_loss: 2.3029 - val_acc: 0.0952\n",
            "Epoch 19/42\n",
            "2344/2344 [==============================] - 31s 13ms/step - loss: 2.3028 - acc: 0.0990 - val_loss: 2.3028 - val_acc: 0.0952\n",
            "Epoch 20/42\n",
            "2344/2344 [==============================] - 30s 13ms/step - loss: 2.3027 - acc: 0.0994 - val_loss: 2.3028 - val_acc: 0.0952\n",
            "Epoch 21/42\n",
            "2344/2344 [==============================] - 30s 13ms/step - loss: 2.3028 - acc: 0.0994 - val_loss: 2.3028 - val_acc: 0.0952\n",
            "Epoch 22/42\n",
            "2344/2344 [==============================] - 30s 13ms/step - loss: 2.3027 - acc: 0.0980 - val_loss: 2.3029 - val_acc: 0.0952\n",
            "Epoch 23/42\n",
            "2344/2344 [==============================] - 30s 13ms/step - loss: 2.3028 - acc: 0.0997 - val_loss: 2.3029 - val_acc: 0.0952\n",
            "Epoch 24/42\n",
            "2344/2344 [==============================] - 35s 15ms/step - loss: 2.3027 - acc: 0.0991 - val_loss: 2.3029 - val_acc: 0.0952\n",
            "Epoch 25/42\n",
            "2344/2344 [==============================] - 30s 13ms/step - loss: 2.3028 - acc: 0.1015 - val_loss: 2.3027 - val_acc: 0.0987\n",
            "Epoch 26/42\n",
            "2344/2344 [==============================] - 35s 15ms/step - loss: 2.3028 - acc: 0.0997 - val_loss: 2.3028 - val_acc: 0.0952\n",
            "Epoch 27/42\n",
            "2344/2344 [==============================] - 35s 15ms/step - loss: 2.3028 - acc: 0.0978 - val_loss: 2.3028 - val_acc: 0.0952\n",
            "Epoch 28/42\n",
            "2344/2344 [==============================] - 31s 13ms/step - loss: 2.3028 - acc: 0.0987 - val_loss: 2.3029 - val_acc: 0.0986\n",
            "Epoch 29/42\n",
            "2344/2344 [==============================] - 30s 13ms/step - loss: 2.3028 - acc: 0.0999 - val_loss: 2.3028 - val_acc: 0.0987\n",
            "Epoch 30/42\n",
            "2344/2344 [==============================] - 35s 15ms/step - loss: 2.3028 - acc: 0.0966 - val_loss: 2.3029 - val_acc: 0.0987\n",
            "Epoch 31/42\n",
            "2344/2344 [==============================] - 31s 13ms/step - loss: 2.3027 - acc: 0.0995 - val_loss: 2.3029 - val_acc: 0.0987\n",
            "Epoch 32/42\n",
            "2344/2344 [==============================] - 35s 15ms/step - loss: 2.3028 - acc: 0.0954 - val_loss: 2.3028 - val_acc: 0.0952\n",
            "Epoch 33/42\n",
            "2344/2344 [==============================] - 35s 15ms/step - loss: 2.3027 - acc: 0.0999 - val_loss: 2.3029 - val_acc: 0.0952\n",
            "Epoch 34/42\n",
            "2344/2344 [==============================] - 31s 13ms/step - loss: 2.3028 - acc: 0.0995 - val_loss: 2.3027 - val_acc: 0.0952\n",
            "Epoch 35/42\n",
            "2344/2344 [==============================] - 30s 13ms/step - loss: 2.3027 - acc: 0.1011 - val_loss: 2.3028 - val_acc: 0.0952\n",
            "Epoch 36/42\n",
            "2344/2344 [==============================] - 30s 13ms/step - loss: 2.3028 - acc: 0.0989 - val_loss: 2.3027 - val_acc: 0.0986\n",
            "Epoch 37/42\n",
            "2344/2344 [==============================] - 35s 15ms/step - loss: 2.3028 - acc: 0.0975 - val_loss: 2.3028 - val_acc: 0.0952\n",
            "Epoch 38/42\n",
            "2344/2344 [==============================] - 31s 13ms/step - loss: 2.3028 - acc: 0.1004 - val_loss: 2.3027 - val_acc: 0.0952\n",
            "Epoch 39/42\n",
            "2344/2344 [==============================] - 30s 13ms/step - loss: 2.3028 - acc: 0.0997 - val_loss: 2.3027 - val_acc: 0.0995\n",
            "Epoch 40/42\n",
            "2344/2344 [==============================] - 30s 13ms/step - loss: 2.3028 - acc: 0.0988 - val_loss: 2.3028 - val_acc: 0.0987\n",
            "Epoch 41/42\n",
            "2344/2344 [==============================] - 30s 13ms/step - loss: 2.3027 - acc: 0.0997 - val_loss: 2.3029 - val_acc: 0.0987\n",
            "Epoch 42/42\n",
            "2344/2344 [==============================] - 30s 13ms/step - loss: 2.3028 - acc: 0.0969 - val_loss: 2.3028 - val_acc: 0.0952\n"
          ],
          "name": "stdout"
        },
        {
          "output_type": "display_data",
          "data": {
            "image/png": "[encoded data removed]",
            "text/plain": [
              "<Figure size 432x288 with 1 Axes>"
            ]
          },
          "metadata": {
            "tags": [],
            "needs_background": "light"
          }
        },
        {
          "output_type": "display_data",
          "data": {
            "image/png": "[encoded data removed]",
            "text/plain": [
              "<Figure size 432x288 with 1 Axes>"
            ]
          },
          "metadata": {
            "tags": [],
            "needs_background": "light"
          }
        }
      ]
    },
    {
      "cell_type": "code",
      "metadata": {
        "id": "A75OC2C0wEnw",
        "colab": {
          "base_uri": "https://localhost:8080/"
        },
        "outputId": "58d34deb-fe26-4179-bd6f-dbd7ceaf1e5b"
      },
      "source": [
        "model.summary()"
      ],
      "execution_count": 18,
      "outputs": [
        {
          "output_type": "stream",
          "text": [
            "Model: \"sequential_2\"\n",
            "_________________________________________________________________\n",
            "Layer (type)                 Output Shape              Param #   \n",
            "=================================================================\n",
            "vgg16 (Functional)           (None, 1, 1, 512)         14714688  \n",
            "_________________________________________________________________\n",
            "flatten_2 (Flatten)          (None, 512)               0         \n",
            "_________________________________________________________________\n",
            "dense_4 (Dense)              (None, 64)                32832     \n",
            "_________________________________________________________________\n",
            "dropout_2 (Dropout)          (None, 64)                0         \n",
            "_________________________________________________________________\n",
            "dense_5 (Dense)              (None, 10)                650       \n",
            "=================================================================\n",
            "Total params: 14,748,170\n",
            "Trainable params: 4,753,098\n",
            "Non-trainable params: 9,995,072\n",
            "_________________________________________________________________\n"
          ],
          "name": "stdout"
        }
      ]
    },
    {
      "cell_type": "code",
      "metadata": {
        "id": "Uo4bmPDAuZte"
      },
      "source": [
        ""
      ],
      "execution_count": 3,
      "outputs": []
    }
  ]
}