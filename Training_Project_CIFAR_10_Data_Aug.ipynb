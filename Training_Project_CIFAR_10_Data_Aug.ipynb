{
  "nbformat": 4,
  "nbformat_minor": 0,
  "metadata": {
    "colab": {
      "name": "Training Project CIFAR-10 Data Aug.ipynb",
      "provenance": [],
      "collapsed_sections": [],
      "authorship_tag": "ABX9TyP/i+QNFQXRkfZ1KyVYuop3",
      "include_colab_link": true
    },
    "kernelspec": {
      "name": "python3",
      "display_name": "Python 3"
    },
    "language_info": {
      "name": "python"
    },
    "accelerator": "GPU"
  },
  "cells": [
    {
      "cell_type": "markdown",
      "metadata": {
        "id": "view-in-github",
        "colab_type": "text"
      },
      "source": [
        "<a href=\"https://colab.research.google.com/github/LucasColas/Project-with-CIFAR-10/blob/main/Training_Project_CIFAR_10_Data_Aug.ipynb\" target=\"_parent\"><img src=\"https://colab.research.google.com/assets/colab-badge.svg\" alt=\"Open In Colab\"/></a>"
      ]
    },
    {
      "cell_type": "markdown",
      "metadata": {
        "id": "Ti2F1OvacOXo"
      },
      "source": [
        "Les modules"
      ]
    },
    {
      "cell_type": "code",
      "metadata": {
        "colab": {
          "base_uri": "https://localhost:8080/"
        },
        "id": "eLfXFTQGuR9P",
        "outputId": "6e563464-8933-4767-845c-edc876117cf1"
      },
      "source": [
        "import matplotlib.pyplot as plt\n",
        "import numpy as np\n",
        "import tensorflow as tf\n",
        "from tensorflow import keras\n",
        "#from tensorflow.keras.applications import VGG16\n",
        "from tensorflow.keras import layers, models, optimizers, regularizers\n",
        "from tensorflow.keras.applications.vgg16 import VGG16\n",
        "\n",
        "VGG_model = VGG16(weights=\"imagenet\", include_top=False, input_shape=(32,32,3))\n",
        "#VGG_model.summary()\n",
        "\n",
        "(X_train, y_train), (X_test, y_test) = keras.datasets.cifar10.load_data()\n",
        "X_train = X_train.astype('float32')\n",
        "X_test = X_test.astype('float32')\n",
        "print(X_train.dtype, y_train.shape, X_test.shape, y_test.shape)"
      ],
      "execution_count": 1,
      "outputs": [
        {
          "output_type": "stream",
          "text": [
            "Downloading data from https://storage.googleapis.com/tensorflow/keras-applications/vgg16/vgg16_weights_tf_dim_ordering_tf_kernels_notop.h5\n",
            "58892288/58889256 [==============================] - 0s 0us/step\n",
            "Downloading data from https://www.cs.toronto.edu/~kriz/cifar-10-python.tar.gz\n",
            "170500096/170498071 [==============================] - 4s 0us/step\n",
            "float32 (50000, 1) (10000, 32, 32, 3) (10000, 1)\n"
          ],
          "name": "stdout"
        }
      ]
    },
    {
      "cell_type": "markdown",
      "metadata": {
        "id": "PT4EmtRubxBi"
      },
      "source": [
        "Data Augmentation"
      ]
    },
    {
      "cell_type": "code",
      "metadata": {
        "id": "dUv3FUMKWeUK"
      },
      "source": [
        "from keras.preprocessing.image import ImageDataGenerator\n",
        "aug = ImageDataGenerator(featurewise_center=True,featurewise_std_normalization=True,rotation_range=20,\n",
        "                         width_shift_range=0.2,\n",
        "                         height_shift_range=0.2,\n",
        "                         horizontal_flip=True,\n",
        "                         validation_split=0.2)\n",
        "aug.fit(X_train)"
      ],
      "execution_count": 8,
      "outputs": []
    },
    {
      "cell_type": "markdown",
      "metadata": {
        "id": "B_XkHfSzcSBw"
      },
      "source": [
        "One Hot Encoding"
      ]
    },
    {
      "cell_type": "code",
      "metadata": {
        "id": "nxMxJk2KuZzE"
      },
      "source": [
        "def sort_labels(y_train, y_test):\n",
        "\n",
        "    Y_train = np.zeros((50000,10))\n",
        "    Y_test = np.zeros((10000,10))\n",
        "    for index, label in enumerate(y_train):\n",
        "        Y_train[index, label] = 1\n",
        "\n",
        "    for index, label in enumerate(y_test):\n",
        "        Y_test[index, label] = 1\n",
        "\n",
        "\n",
        "    return Y_train, Y_test\n",
        "\n",
        "Y_train, Y_test = sort_labels(y_train, y_test)"
      ],
      "execution_count": 3,
      "outputs": []
    },
    {
      "cell_type": "markdown",
      "metadata": {
        "id": "YW3-u3lgcW-3"
      },
      "source": [
        "Unfreeze les derniers layers"
      ]
    },
    {
      "cell_type": "code",
      "metadata": {
        "id": "QxvcPFqpf8ro"
      },
      "source": [
        "VGG_model.trainable = True\n",
        "set_trainable = False\n",
        "for layer in VGG_model.layers:\n",
        "  #print(layer.name)\n",
        "  if layer.name == 'block5_conv3':\n",
        "    set_trainable = True\n",
        "  \n",
        "  if set_trainable:\n",
        "    layer.trainable = True \n",
        "\n",
        "  else:\n",
        "    layer.trainable = False"
      ],
      "execution_count": 4,
      "outputs": []
    },
    {
      "cell_type": "markdown",
      "metadata": {
        "id": "KhAGYg6KcZki"
      },
      "source": [
        "Preprocessing"
      ]
    },
    {
      "cell_type": "code",
      "metadata": {
        "id": "LMODG_qcKiTV"
      },
      "source": [
        "X_train /= 255\n",
        "X_test /= 255"
      ],
      "execution_count": 5,
      "outputs": []
    },
    {
      "cell_type": "markdown",
      "metadata": {
        "id": "Arkell7Fcc5-"
      },
      "source": [
        "Entrainemenet avec LR élevé"
      ]
    },
    {
      "cell_type": "code",
      "metadata": {
        "id": "O_bs_U-5gMsB",
        "colab": {
          "base_uri": "https://localhost:8080/"
        },
        "outputId": "daae8377-4298-4d71-acfe-9fa187bf8a69"
      },
      "source": [
        "model = models.Sequential()\n",
        "model.add(VGG_model)\n",
        "model.add(layers.Flatten())\n",
        "model.add(layers.Dense(256, activation='relu'))\n",
        "model.add(layers.Dropout(0.25))\n",
        "model.add(layers.Dense(10, activation='softmax'))\n",
        "\n",
        "lr = 0.01\n",
        "steps_per_epoch = np.ceil((0.8*len(X_train) / 16)-1)\n",
        "model.compile(loss=\"categorical_crossentropy\", optimizer=optimizers.SGD(lr), metrics=[\"acc\"])\n",
        "model.fit(aug.flow(X_train, Y_train, batch_size=16,subset='training'), validation_data=aug.flow(X_train, Y_train,\n",
        "         batch_size=8, subset='validation'), steps_per_epoch=steps_per_epoch, epochs=10, verbose=1)"
      ],
      "execution_count": 12,
      "outputs": [
        {
          "output_type": "stream",
          "text": [
            "Epoch 1/10\n",
            "2499/2499 [==============================] - 41s 16ms/step - loss: 1.1692 - acc: 0.5918 - val_loss: 1.0867 - val_acc: 0.6129\n",
            "Epoch 2/10\n",
            "2499/2499 [==============================] - 40s 16ms/step - loss: 1.0681 - acc: 0.6254 - val_loss: 1.0042 - val_acc: 0.6486\n",
            "Epoch 3/10\n",
            "2499/2499 [==============================] - 41s 16ms/step - loss: 1.0344 - acc: 0.6424 - val_loss: 1.0534 - val_acc: 0.6285\n",
            "Epoch 4/10\n",
            "2499/2499 [==============================] - 41s 16ms/step - loss: 1.0134 - acc: 0.6462 - val_loss: 0.9977 - val_acc: 0.6495\n",
            "Epoch 5/10\n",
            "2499/2499 [==============================] - 41s 16ms/step - loss: 0.9937 - acc: 0.6526 - val_loss: 0.9864 - val_acc: 0.6514\n",
            "Epoch 6/10\n",
            "2499/2499 [==============================] - 41s 16ms/step - loss: 0.9764 - acc: 0.6587 - val_loss: 0.9984 - val_acc: 0.6535\n",
            "Epoch 7/10\n",
            "2499/2499 [==============================] - 41s 16ms/step - loss: 0.9611 - acc: 0.6609 - val_loss: 0.9462 - val_acc: 0.6685\n",
            "Epoch 8/10\n",
            "2499/2499 [==============================] - 41s 16ms/step - loss: 0.9394 - acc: 0.6694 - val_loss: 0.9646 - val_acc: 0.6599\n",
            "Epoch 9/10\n",
            "2499/2499 [==============================] - 41s 16ms/step - loss: 0.9283 - acc: 0.6757 - val_loss: 0.9471 - val_acc: 0.6661\n",
            "Epoch 10/10\n",
            "2499/2499 [==============================] - 41s 16ms/step - loss: 0.9243 - acc: 0.6760 - val_loss: 0.9666 - val_acc: 0.6616\n"
          ],
          "name": "stdout"
        },
        {
          "output_type": "execute_result",
          "data": {
            "text/plain": [
              "<tensorflow.python.keras.callbacks.History at 0x7f41c0bee550>"
            ]
          },
          "metadata": {
            "tags": []
          },
          "execution_count": 12
        }
      ]
    },
    {
      "cell_type": "markdown",
      "metadata": {
        "id": "HRHMF8gqcftS"
      },
      "source": [
        "Entrainement de toutes les couches"
      ]
    },
    {
      "cell_type": "code",
      "metadata": {
        "id": "qssKQ0slOaOt"
      },
      "source": [
        "for layer in model.layers:\n",
        "  layer.trainable = True\n",
        "\n"
      ],
      "execution_count": 13,
      "outputs": []
    },
    {
      "cell_type": "code",
      "metadata": {
        "colab": {
          "base_uri": "https://localhost:8080/"
        },
        "id": "ul2q1YwUOjpI",
        "outputId": "6a978dd8-235f-4f36-e99b-fb8b3f4faeb7"
      },
      "source": [
        "model.summary()"
      ],
      "execution_count": 14,
      "outputs": [
        {
          "output_type": "stream",
          "text": [
            "Model: \"sequential_4\"\n",
            "_________________________________________________________________\n",
            "Layer (type)                 Output Shape              Param #   \n",
            "=================================================================\n",
            "vgg16 (Functional)           (None, 1, 1, 512)         14714688  \n",
            "_________________________________________________________________\n",
            "flatten_4 (Flatten)          (None, 512)               0         \n",
            "_________________________________________________________________\n",
            "dense_8 (Dense)              (None, 256)               131328    \n",
            "_________________________________________________________________\n",
            "dropout_4 (Dropout)          (None, 256)               0         \n",
            "_________________________________________________________________\n",
            "dense_9 (Dense)              (None, 10)                2570      \n",
            "=================================================================\n",
            "Total params: 14,848,586\n",
            "Trainable params: 14,848,586\n",
            "Non-trainable params: 0\n",
            "_________________________________________________________________\n"
          ],
          "name": "stdout"
        }
      ]
    },
    {
      "cell_type": "code",
      "metadata": {
        "id": "IT959QAJg-au"
      },
      "source": [
        "\n",
        "model = models.Sequential()\n",
        "model.add(VGG_model)\n",
        "model.add(layers.Flatten())\n",
        "model.add(layers.Dense(256, activation='relu'))\n",
        "model.add(layers.Dropout(0.25))\n",
        "model.add(layers.Dense(10, activation='softmax'))"
      ],
      "execution_count": 15,
      "outputs": []
    },
    {
      "cell_type": "code",
      "metadata": {
        "colab": {
          "base_uri": "https://localhost:8080/"
        },
        "id": "GQOOQ4fQg_ZJ",
        "outputId": "951c4770-a135-4385-ee92-0b22e1470a8c"
      },
      "source": [
        "model.summary()"
      ],
      "execution_count": 16,
      "outputs": [
        {
          "output_type": "stream",
          "text": [
            "Model: \"sequential_5\"\n",
            "_________________________________________________________________\n",
            "Layer (type)                 Output Shape              Param #   \n",
            "=================================================================\n",
            "vgg16 (Functional)           (None, 1, 1, 512)         14714688  \n",
            "_________________________________________________________________\n",
            "flatten_5 (Flatten)          (None, 512)               0         \n",
            "_________________________________________________________________\n",
            "dense_10 (Dense)             (None, 256)               131328    \n",
            "_________________________________________________________________\n",
            "dropout_5 (Dropout)          (None, 256)               0         \n",
            "_________________________________________________________________\n",
            "dense_11 (Dense)             (None, 10)                2570      \n",
            "=================================================================\n",
            "Total params: 14,848,586\n",
            "Trainable params: 14,848,586\n",
            "Non-trainable params: 0\n",
            "_________________________________________________________________\n"
          ],
          "name": "stdout"
        }
      ]
    },
    {
      "cell_type": "code",
      "metadata": {
        "colab": {
          "base_uri": "https://localhost:8080/"
        },
        "id": "ly_KG6yAuZwY",
        "outputId": "fd005874-d5c9-40c5-dc53-cbc8e2cd9caf"
      },
      "source": [
        "\n",
        "\n",
        "steps_per_epoch = np.ceil((0.8*len(X_train) / 16)-1)\n",
        "model.compile(optimizer=optimizers.SGD(lr=0.0001),loss=\"categorical_crossentropy\", metrics=[\"acc\"])\n",
        "history = model.fit(aug.flow(X_train, Y_train, batch_size=16,subset='training'), validation_data=aug.flow(X_train, Y_train,\n",
        "         batch_size=8, subset='validation'), steps_per_epoch=steps_per_epoch, epochs=10, verbose=1)\n",
        "model.save(\"training.h5\")\n",
        "\n",
        "\n",
        "\n",
        "acc = history.history['acc']\n",
        "val_acc = history.history['val_acc']\n",
        "loss = history.history['loss']\n",
        "val_loss = history.history['val_loss']\n",
        "\n",
        "epochs = range(1,len(acc)+1)\n",
        "\n",
        "plt.plot(epochs,acc,'bo', label='Training acc')\n",
        "plt.plot(epochs, val_acc,'b', label='Validation acc')\n",
        "plt.title('Training and validation accuracy')\n",
        "plt.legend()\n",
        "\n",
        "plt.figure()\n",
        "\n",
        "plt.plot(epochs, loss, 'bo', label='Training loss')\n",
        "plt.plot(epochs, val_loss, 'b', label='Validation loss')\n",
        "plt.title('Training and validation loss')\n",
        "plt.legend()\n",
        "\n",
        "plt.show()\n"
      ],
      "execution_count": null,
      "outputs": [
        {
          "output_type": "stream",
          "text": [
            "/usr/local/lib/python3.7/dist-packages/tensorflow/python/keras/optimizer_v2/optimizer_v2.py:375: UserWarning: The `lr` argument is deprecated, use `learning_rate` instead.\n",
            "  \"The `lr` argument is deprecated, use `learning_rate` instead.\")\n"
          ],
          "name": "stderr"
        },
        {
          "output_type": "stream",
          "text": [
            "Epoch 1/10\n",
            "2499/2499 [==============================] - 72s 28ms/step - loss: 1.8411 - acc: 0.3432 - val_loss: 1.3219 - val_acc: 0.5396\n",
            "Epoch 2/10\n",
            "2499/2499 [==============================] - 72s 29ms/step - loss: 1.2958 - acc: 0.5485 - val_loss: 1.0644 - val_acc: 0.6290\n",
            "Epoch 3/10\n",
            "2499/2499 [==============================] - 72s 29ms/step - loss: 1.1127 - acc: 0.6150 - val_loss: 0.9607 - val_acc: 0.6721\n",
            "Epoch 4/10\n",
            "2499/2499 [==============================] - 72s 29ms/step - loss: 1.0193 - acc: 0.6488 - val_loss: 0.9033 - val_acc: 0.6818\n",
            "Epoch 5/10\n",
            "2499/2499 [==============================] - 73s 29ms/step - loss: 0.9589 - acc: 0.6719 - val_loss: 0.8650 - val_acc: 0.7008\n",
            "Epoch 6/10\n",
            "2499/2499 [==============================] - 73s 29ms/step - loss: 0.9171 - acc: 0.6857 - val_loss: 0.8457 - val_acc: 0.7057\n",
            "Epoch 7/10\n",
            "2499/2499 [==============================] - 72s 29ms/step - loss: 0.8918 - acc: 0.6949 - val_loss: 0.8199 - val_acc: 0.7155\n",
            "Epoch 8/10\n",
            "2499/2499 [==============================] - 72s 29ms/step - loss: 0.8555 - acc: 0.7063 - val_loss: 0.7893 - val_acc: 0.7275\n",
            "Epoch 9/10\n",
            "2499/2499 [==============================] - 72s 29ms/step - loss: 0.8246 - acc: 0.7167 - val_loss: 0.7674 - val_acc: 0.7350\n",
            "Epoch 10/10\n",
            "2497/2499 [============================>.] - ETA: 0s - loss: 0.8053 - acc: 0.7230"
          ],
          "name": "stdout"
        }
      ]
    }
  ]
}