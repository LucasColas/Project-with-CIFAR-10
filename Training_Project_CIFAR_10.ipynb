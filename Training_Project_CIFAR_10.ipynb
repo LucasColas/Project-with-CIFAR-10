{
  "nbformat": 4,
  "nbformat_minor": 0,
  "metadata": {
    "colab": {
      "name": "Training Project CIFAR-10.ipynb",
      "provenance": [],
      "collapsed_sections": [],
      "authorship_tag": "ABX9TyNCJz7FK1V0h5jJ7e0Zn5DW",
      "include_colab_link": true
    },
    "kernelspec": {
      "name": "python3",
      "display_name": "Python 3"
    },
    "language_info": {
      "name": "python"
    },
    "accelerator": "GPU"
  },
  "cells": [
    {
      "cell_type": "markdown",
      "metadata": {
        "id": "view-in-github",
        "colab_type": "text"
      },
      "source": [
        "<a href=\"https://colab.research.google.com/github/LucasColas/Project-with-CIFAR-10/blob/main/Training_Project_CIFAR_10.ipynb\" target=\"_parent\"><img src=\"https://colab.research.google.com/assets/colab-badge.svg\" alt=\"Open In Colab\"/></a>"
      ]
    },
    {
      "cell_type": "markdown",
      "metadata": {
        "id": "Ti2F1OvacOXo"
      },
      "source": [
        "Les modules"
      ]
    },
    {
      "cell_type": "code",
      "metadata": {
        "colab": {
          "base_uri": "https://localhost:8080/"
        },
        "id": "eLfXFTQGuR9P",
        "outputId": "879329bd-f24d-45aa-8e80-8d060bcaf743"
      },
      "source": [
        "import matplotlib.pyplot as plt\n",
        "import numpy as np\n",
        "import tensorflow as tf\n",
        "from tensorflow import keras\n",
        "#from tensorflow.keras.applications import VGG16\n",
        "from tensorflow.keras import layers, models, optimizers, regularizers\n",
        "from tensorflow.keras.applications.vgg16 import VGG16\n",
        "\n",
        "VGG_model = VGG16(weights=\"imagenet\", include_top=False, input_shape=(32,32,3))\n",
        "VGG_model.summary()\n",
        "\n",
        "(X_train, y_train), (X_test, y_test) = keras.datasets.cifar10.load_data()\n",
        "X_train = X_train.astype('float32')\n",
        "X_test = X_test.astype('float32')\n",
        "print(X_train.dtype, y_train.shape, X_test.shape, y_test.shape)"
      ],
      "execution_count": null,
      "outputs": [
        {
          "output_type": "stream",
          "text": [
            "Downloading data from https://storage.googleapis.com/tensorflow/keras-applications/vgg16/vgg16_weights_tf_dim_ordering_tf_kernels_notop.h5\n",
            "58892288/58889256 [==============================] - 1s 0us/step\n",
            "Model: \"vgg16\"\n",
            "_________________________________________________________________\n",
            "Layer (type)                 Output Shape              Param #   \n",
            "=================================================================\n",
            "input_1 (InputLayer)         [(None, 32, 32, 3)]       0         \n",
            "_________________________________________________________________\n",
            "block1_conv1 (Conv2D)        (None, 32, 32, 64)        1792      \n",
            "_________________________________________________________________\n",
            "block1_conv2 (Conv2D)        (None, 32, 32, 64)        36928     \n",
            "_________________________________________________________________\n",
            "block1_pool (MaxPooling2D)   (None, 16, 16, 64)        0         \n",
            "_________________________________________________________________\n",
            "block2_conv1 (Conv2D)        (None, 16, 16, 128)       73856     \n",
            "_________________________________________________________________\n",
            "block2_conv2 (Conv2D)        (None, 16, 16, 128)       147584    \n",
            "_________________________________________________________________\n",
            "block2_pool (MaxPooling2D)   (None, 8, 8, 128)         0         \n",
            "_________________________________________________________________\n",
            "block3_conv1 (Conv2D)        (None, 8, 8, 256)         295168    \n",
            "_________________________________________________________________\n",
            "block3_conv2 (Conv2D)        (None, 8, 8, 256)         590080    \n",
            "_________________________________________________________________\n",
            "block3_conv3 (Conv2D)        (None, 8, 8, 256)         590080    \n",
            "_________________________________________________________________\n",
            "block3_pool (MaxPooling2D)   (None, 4, 4, 256)         0         \n",
            "_________________________________________________________________\n",
            "block4_conv1 (Conv2D)        (None, 4, 4, 512)         1180160   \n",
            "_________________________________________________________________\n",
            "block4_conv2 (Conv2D)        (None, 4, 4, 512)         2359808   \n",
            "_________________________________________________________________\n",
            "block4_conv3 (Conv2D)        (None, 4, 4, 512)         2359808   \n",
            "_________________________________________________________________\n",
            "block4_pool (MaxPooling2D)   (None, 2, 2, 512)         0         \n",
            "_________________________________________________________________\n",
            "block5_conv1 (Conv2D)        (None, 2, 2, 512)         2359808   \n",
            "_________________________________________________________________\n",
            "block5_conv2 (Conv2D)        (None, 2, 2, 512)         2359808   \n",
            "_________________________________________________________________\n",
            "block5_conv3 (Conv2D)        (None, 2, 2, 512)         2359808   \n",
            "_________________________________________________________________\n",
            "block5_pool (MaxPooling2D)   (None, 1, 1, 512)         0         \n",
            "=================================================================\n",
            "Total params: 14,714,688\n",
            "Trainable params: 14,714,688\n",
            "Non-trainable params: 0\n",
            "_________________________________________________________________\n",
            "Downloading data from https://www.cs.toronto.edu/~kriz/cifar-10-python.tar.gz\n",
            "170500096/170498071 [==============================] - 4s 0us/step\n",
            "float32 (50000, 1) (10000, 32, 32, 3) (10000, 1)\n"
          ],
          "name": "stdout"
        }
      ]
    },
    {
      "cell_type": "markdown",
      "metadata": {
        "id": "B_XkHfSzcSBw"
      },
      "source": [
        "One Hot Encoding"
      ]
    },
    {
      "cell_type": "code",
      "metadata": {
        "id": "nxMxJk2KuZzE"
      },
      "source": [
        "def sort_labels(y_train, y_test):\n",
        "\n",
        "    Y_train = np.zeros((50000,10))\n",
        "    Y_test = np.zeros((10000,10))\n",
        "    for index, label in enumerate(y_train):\n",
        "        Y_train[index, label] = 1\n",
        "\n",
        "    for index, label in enumerate(y_test):\n",
        "        Y_test[index, label] = 1\n",
        "\n",
        "\n",
        "    return Y_train, Y_test\n",
        "\n",
        "Y_train, Y_test = sort_labels(y_train, y_test)"
      ],
      "execution_count": null,
      "outputs": []
    },
    {
      "cell_type": "markdown",
      "metadata": {
        "id": "YW3-u3lgcW-3"
      },
      "source": [
        "Unfreeze les derniers layers"
      ]
    },
    {
      "cell_type": "code",
      "metadata": {
        "id": "QxvcPFqpf8ro"
      },
      "source": [
        "VGG_model.trainable = True\n",
        "set_trainable = False\n",
        "for layer in VGG_model.layers:\n",
        "  #print(layer.name)\n",
        "  if layer.name == 'block5_conv3':\n",
        "    set_trainable = True\n",
        "  \n",
        "  if set_trainable:\n",
        "    layer.trainable = True \n",
        "\n",
        "  else:\n",
        "    layer.trainable = False"
      ],
      "execution_count": null,
      "outputs": []
    },
    {
      "cell_type": "markdown",
      "metadata": {
        "id": "KhAGYg6KcZki"
      },
      "source": [
        "Preprocessing"
      ]
    },
    {
      "cell_type": "code",
      "metadata": {
        "id": "LMODG_qcKiTV"
      },
      "source": [
        "X_train /= 255\n",
        "Y_train /= 255"
      ],
      "execution_count": null,
      "outputs": []
    },
    {
      "cell_type": "markdown",
      "metadata": {
        "id": "Arkell7Fcc5-"
      },
      "source": [
        "Entrainemenet avec LR élevé"
      ]
    },
    {
      "cell_type": "code",
      "metadata": {
        "id": "O_bs_U-5gMsB",
        "colab": {
          "base_uri": "https://localhost:8080/"
        },
        "outputId": "538b1341-a243-497f-a3c0-c77ab228bad2"
      },
      "source": [
        "model = models.Sequential()\n",
        "model.add(VGG_model)\n",
        "model.add(layers.Flatten())\n",
        "model.add(layers.Dense(256, activation='relu'))\n",
        "model.add(layers.Dropout(0.25))\n",
        "model.add(layers.Dense(10, activation='softmax'))\n",
        "\n",
        "lr = 0.01\n",
        "model.compile(loss=\"categorical_crossentropy\", optimizer=optimizers.SGD(lr), metrics=[\"acc\"])\n",
        "model.fit(X_train, Y_train, validation_data=(X_test, Y_test), batch_size=16, epochs=10, verbose=1)"
      ],
      "execution_count": null,
      "outputs": [
        {
          "output_type": "stream",
          "text": [
            "Epoch 1/10\n",
            "3125/3125 [==============================] - 63s 10ms/step - loss: nan - acc: 0.1005 - val_loss: nan - val_acc: 0.1000\n",
            "Epoch 2/10\n",
            "3125/3125 [==============================] - 31s 10ms/step - loss: nan - acc: 0.1000 - val_loss: nan - val_acc: 0.1000\n",
            "Epoch 3/10\n",
            "3125/3125 [==============================] - 31s 10ms/step - loss: nan - acc: 0.1000 - val_loss: nan - val_acc: 0.1000\n",
            "Epoch 4/10\n",
            "3125/3125 [==============================] - 32s 10ms/step - loss: nan - acc: 0.1000 - val_loss: nan - val_acc: 0.1000\n",
            "Epoch 5/10\n",
            "3125/3125 [==============================] - 32s 10ms/step - loss: nan - acc: 0.1000 - val_loss: nan - val_acc: 0.1000\n",
            "Epoch 6/10\n",
            "3125/3125 [==============================] - 31s 10ms/step - loss: nan - acc: 0.1000 - val_loss: nan - val_acc: 0.1000\n",
            "Epoch 7/10\n",
            "3125/3125 [==============================] - 31s 10ms/step - loss: nan - acc: 0.1000 - val_loss: nan - val_acc: 0.1000\n",
            "Epoch 8/10\n",
            "3125/3125 [==============================] - 31s 10ms/step - loss: nan - acc: 0.1000 - val_loss: nan - val_acc: 0.1000\n",
            "Epoch 9/10\n",
            "3125/3125 [==============================] - 32s 10ms/step - loss: nan - acc: 0.1000 - val_loss: nan - val_acc: 0.1000\n",
            "Epoch 10/10\n",
            "3125/3125 [==============================] - 32s 10ms/step - loss: nan - acc: 0.1000 - val_loss: nan - val_acc: 0.1000\n"
          ],
          "name": "stdout"
        },
        {
          "output_type": "execute_result",
          "data": {
            "text/plain": [
              "<tensorflow.python.keras.callbacks.History at 0x7fe0e0039f50>"
            ]
          },
          "metadata": {
            "tags": []
          },
          "execution_count": 5
        }
      ]
    },
    {
      "cell_type": "markdown",
      "metadata": {
        "id": "HRHMF8gqcftS"
      },
      "source": [
        "Entrainement de toutes les couches"
      ]
    },
    {
      "cell_type": "code",
      "metadata": {
        "id": "qssKQ0slOaOt"
      },
      "source": [
        "for layer in model.layers:\n",
        "  layer.trainable = True\n",
        "\n"
      ],
      "execution_count": null,
      "outputs": []
    },
    {
      "cell_type": "code",
      "metadata": {
        "colab": {
          "base_uri": "https://localhost:8080/"
        },
        "id": "ul2q1YwUOjpI",
        "outputId": "b10c68ba-9ab2-4ecb-a743-26b9164a25c0"
      },
      "source": [
        "model.summary()"
      ],
      "execution_count": null,
      "outputs": [
        {
          "output_type": "stream",
          "text": [
            "Model: \"sequential\"\n",
            "_________________________________________________________________\n",
            "Layer (type)                 Output Shape              Param #   \n",
            "=================================================================\n",
            "vgg16 (Functional)           (None, 1, 1, 512)         14714688  \n",
            "_________________________________________________________________\n",
            "flatten (Flatten)            (None, 512)               0         \n",
            "_________________________________________________________________\n",
            "dense (Dense)                (None, 256)               131328    \n",
            "_________________________________________________________________\n",
            "dropout (Dropout)            (None, 256)               0         \n",
            "_________________________________________________________________\n",
            "dense_1 (Dense)              (None, 10)                2570      \n",
            "=================================================================\n",
            "Total params: 14,848,586\n",
            "Trainable params: 14,848,586\n",
            "Non-trainable params: 0\n",
            "_________________________________________________________________\n"
          ],
          "name": "stdout"
        }
      ]
    },
    {
      "cell_type": "code",
      "metadata": {
        "id": "IT959QAJg-au"
      },
      "source": [
        "\n",
        "model = models.Sequential()\n",
        "model.add(VGG_model)\n",
        "model.add(layers.Flatten())\n",
        "model.add(layers.Dense(256, activation='relu'))\n",
        "model.add(layers.Dropout(0.25))\n",
        "model.add(layers.Dense(10, activation='softmax'))"
      ],
      "execution_count": null,
      "outputs": []
    },
    {
      "cell_type": "code",
      "metadata": {
        "colab": {
          "base_uri": "https://localhost:8080/"
        },
        "id": "GQOOQ4fQg_ZJ",
        "outputId": "fd09cf59-caa5-485e-9d35-2016db4f8b7a"
      },
      "source": [
        "model.summary()"
      ],
      "execution_count": null,
      "outputs": [
        {
          "output_type": "stream",
          "text": [
            "Model: \"sequential_2\"\n",
            "_________________________________________________________________\n",
            "Layer (type)                 Output Shape              Param #   \n",
            "=================================================================\n",
            "vgg16 (Functional)           (None, 1, 1, 512)         14714688  \n",
            "_________________________________________________________________\n",
            "flatten_2 (Flatten)          (None, 512)               0         \n",
            "_________________________________________________________________\n",
            "dense_4 (Dense)              (None, 256)               131328    \n",
            "_________________________________________________________________\n",
            "dropout_2 (Dropout)          (None, 256)               0         \n",
            "_________________________________________________________________\n",
            "dense_5 (Dense)              (None, 10)                2570      \n",
            "=================================================================\n",
            "Total params: 14,848,586\n",
            "Trainable params: 14,848,586\n",
            "Non-trainable params: 0\n",
            "_________________________________________________________________\n"
          ],
          "name": "stdout"
        }
      ]
    },
    {
      "cell_type": "code",
      "metadata": {
        "colab": {
          "base_uri": "https://localhost:8080/",
          "height": 1000
        },
        "id": "ly_KG6yAuZwY",
        "outputId": "773ccf4d-5695-4ed5-fe9c-2ef2afe414d5"
      },
      "source": [
        "\n",
        "\n",
        "\n",
        "model.compile(optimizer=optimizers.SGD(lr=0.0001),loss=\"categorical_crossentropy\", metrics=[\"acc\"])\n",
        "history = model.fit(X_train, Y_train, batch_size=16, epochs=42, validation_split=(0.3))\n",
        "model.save(\"training.h5\")\n",
        "\n",
        "\n",
        "\n",
        "acc = history.history['acc']\n",
        "val_acc = history.history['val_acc']\n",
        "loss = history.history['loss']\n",
        "val_loss = history.history['val_loss']\n",
        "\n",
        "epochs = range(1,len(acc)+1)\n",
        "\n",
        "plt.plot(epochs,acc,'bo', label='Training acc')\n",
        "plt.plot(epochs, val_acc,'b', label='Validation acc')\n",
        "plt.title('Training and validation accuracy')\n",
        "plt.legend()\n",
        "\n",
        "plt.figure()\n",
        "\n",
        "plt.plot(epochs, loss, 'bo', label='Training loss')\n",
        "plt.plot(epochs, val_loss, 'b', label='Validation loss')\n",
        "plt.title('Training and validation loss')\n",
        "plt.legend()\n",
        "\n",
        "plt.show()\n"
      ],
      "execution_count": null,
      "outputs": [
        {
          "output_type": "stream",
          "text": [
            "/usr/local/lib/python3.7/dist-packages/tensorflow/python/keras/optimizer_v2/optimizer_v2.py:375: UserWarning: The `lr` argument is deprecated, use `learning_rate` instead.\n",
            "  \"The `lr` argument is deprecated, use `learning_rate` instead.\")\n"
          ],
          "name": "stderr"
        },
        {
          "output_type": "stream",
          "text": [
            "Epoch 1/42\n",
            "2188/2188 [==============================] - 56s 25ms/step - loss: 0.0715 - acc: 0.1030 - val_loss: 0.0090 - val_acc: 0.0984\n",
            "Epoch 2/42\n",
            "2188/2188 [==============================] - 55s 25ms/step - loss: 0.0090 - acc: 0.0966 - val_loss: 0.0090 - val_acc: 0.0984\n",
            "Epoch 3/42\n",
            "2188/2188 [==============================] - 59s 27ms/step - loss: 0.0090 - acc: 0.0995 - val_loss: 0.0090 - val_acc: 0.0984\n",
            "Epoch 4/42\n",
            "2188/2188 [==============================] - 59s 27ms/step - loss: 0.0090 - acc: 0.1007 - val_loss: 0.0090 - val_acc: 0.0979\n",
            "Epoch 5/42\n",
            "2188/2188 [==============================] - 55s 25ms/step - loss: 0.0090 - acc: 0.0988 - val_loss: 0.0090 - val_acc: 0.0984\n",
            "Epoch 6/42\n",
            "2188/2188 [==============================] - 59s 27ms/step - loss: 0.0090 - acc: 0.1010 - val_loss: 0.0090 - val_acc: 0.0984\n",
            "Epoch 7/42\n",
            "2188/2188 [==============================] - 55s 25ms/step - loss: 0.0090 - acc: 0.0997 - val_loss: 0.0090 - val_acc: 0.0984\n",
            "Epoch 8/42\n",
            "2188/2188 [==============================] - 59s 27ms/step - loss: 0.0090 - acc: 0.0960 - val_loss: 0.0090 - val_acc: 0.1025\n",
            "Epoch 9/42\n",
            "2188/2188 [==============================] - 55s 25ms/step - loss: 0.0092 - acc: 0.1019 - val_loss: 0.0092 - val_acc: 0.0984\n",
            "Epoch 10/42\n",
            "2188/2188 [==============================] - 55s 25ms/step - loss: 0.0097 - acc: 0.0999 - val_loss: 0.0098 - val_acc: 0.1014\n",
            "Epoch 11/42\n",
            "2188/2188 [==============================] - 55s 25ms/step - loss: 0.0103 - acc: 0.0985 - val_loss: 0.0100 - val_acc: 0.1005\n",
            "Epoch 12/42\n",
            "2188/2188 [==============================] - 59s 27ms/step - loss: 0.0122 - acc: 0.1001 - val_loss: 0.0102 - val_acc: 0.0984\n",
            "Epoch 13/42\n",
            "2188/2188 [==============================] - 59s 27ms/step - loss: 0.0162 - acc: 0.0977 - val_loss: 0.0172 - val_acc: 0.0983\n",
            "Epoch 14/42\n",
            "2188/2188 [==============================] - 55s 25ms/step - loss: 0.0230 - acc: 0.0987 - val_loss: 0.0268 - val_acc: 0.0983\n",
            "Epoch 15/42\n",
            "2188/2188 [==============================] - 55s 25ms/step - loss: 0.0342 - acc: 0.0987 - val_loss: 0.0336 - val_acc: 0.0999\n",
            "Epoch 16/42\n",
            "2188/2188 [==============================] - 55s 25ms/step - loss: 0.0474 - acc: 0.0988 - val_loss: 0.0631 - val_acc: 0.0999\n",
            "Epoch 17/42\n",
            "2188/2188 [==============================] - 59s 27ms/step - loss: 0.0607 - acc: 0.0994 - val_loss: 0.0607 - val_acc: 0.1010\n",
            "Epoch 18/42\n",
            "2188/2188 [==============================] - 59s 27ms/step - loss: 0.0773 - acc: 0.1001 - val_loss: 0.0876 - val_acc: 0.0984\n",
            "Epoch 19/42\n",
            "2188/2188 [==============================] - 55s 25ms/step - loss: 0.0927 - acc: 0.0992 - val_loss: 0.1042 - val_acc: 0.0984\n",
            "Epoch 20/42\n",
            "2188/2188 [==============================] - 59s 27ms/step - loss: 0.1126 - acc: 0.0957 - val_loss: 0.1049 - val_acc: 0.1010\n",
            "Epoch 21/42\n",
            "2188/2188 [==============================] - 55s 25ms/step - loss: 0.1345 - acc: 0.1003 - val_loss: 0.1624 - val_acc: 0.1025\n",
            "Epoch 22/42\n",
            "2188/2188 [==============================] - 55s 25ms/step - loss: 0.1581 - acc: 0.0994 - val_loss: 0.2011 - val_acc: 0.1005\n",
            "Epoch 23/42\n",
            "2188/2188 [==============================] - 55s 25ms/step - loss: 0.1835 - acc: 0.0989 - val_loss: 0.1890 - val_acc: 0.1017\n",
            "Epoch 24/42\n",
            "2188/2188 [==============================] - 55s 25ms/step - loss: 0.2151 - acc: 0.1013 - val_loss: 0.2406 - val_acc: 0.0984\n",
            "Epoch 25/42\n",
            "2188/2188 [==============================] - 55s 25ms/step - loss: 0.2434 - acc: 0.1000 - val_loss: 0.2378 - val_acc: 0.1005\n",
            "Epoch 26/42\n",
            "2188/2188 [==============================] - 55s 25ms/step - loss: 0.2893 - acc: 0.1024 - val_loss: 0.2740 - val_acc: 0.0999\n",
            "Epoch 27/42\n",
            "2188/2188 [==============================] - 59s 27ms/step - loss: 0.3288 - acc: 0.1011 - val_loss: 0.2941 - val_acc: 0.1005\n",
            "Epoch 28/42\n",
            "2188/2188 [==============================] - 59s 27ms/step - loss: 0.3827 - acc: 0.0991 - val_loss: 0.4059 - val_acc: 0.0984\n",
            "Epoch 29/42\n",
            "2188/2188 [==============================] - 55s 25ms/step - loss: 0.4412 - acc: 0.0983 - val_loss: 0.5075 - val_acc: 0.1010\n",
            "Epoch 30/42\n",
            "2188/2188 [==============================] - 59s 27ms/step - loss: 0.5107 - acc: 0.1000 - val_loss: 0.6324 - val_acc: 0.1010\n",
            "Epoch 31/42\n",
            "2188/2188 [==============================] - 55s 25ms/step - loss: 0.5844 - acc: 0.1012 - val_loss: 0.6028 - val_acc: 0.1025\n",
            "Epoch 32/42\n",
            "2188/2188 [==============================] - 59s 27ms/step - loss: 0.6747 - acc: 0.0975 - val_loss: 0.6148 - val_acc: 0.0984\n",
            "Epoch 33/42\n",
            "2188/2188 [==============================] - 56s 25ms/step - loss: 0.7774 - acc: 0.1002 - val_loss: 1.1352 - val_acc: 0.1010\n",
            "Epoch 34/42\n",
            "2188/2188 [==============================] - 60s 27ms/step - loss: 0.8909 - acc: 0.1015 - val_loss: 1.0583 - val_acc: 0.0979\n",
            "Epoch 35/42\n",
            "2188/2188 [==============================] - 56s 26ms/step - loss: 1.0285 - acc: 0.0982 - val_loss: 1.2119 - val_acc: 0.0984\n",
            "Epoch 36/42\n",
            "2188/2188 [==============================] - 60s 27ms/step - loss: 1.1941 - acc: 0.1011 - val_loss: 1.1716 - val_acc: 0.0984\n",
            "Epoch 37/42\n",
            "2188/2188 [==============================] - 60s 27ms/step - loss: 1.3758 - acc: 0.0979 - val_loss: 1.2646 - val_acc: 0.0984\n",
            "Epoch 38/42\n",
            "2188/2188 [==============================] - 56s 26ms/step - loss: 1.5451 - acc: 0.1013 - val_loss: 1.9427 - val_acc: 0.0984\n",
            "Epoch 39/42\n",
            "2188/2188 [==============================] - 60s 27ms/step - loss: 1.7708 - acc: 0.1027 - val_loss: 2.1612 - val_acc: 0.0984\n",
            "Epoch 40/42\n",
            "2188/2188 [==============================] - 56s 26ms/step - loss: 2.0801 - acc: 0.1004 - val_loss: 3.0301 - val_acc: 0.1025\n",
            "Epoch 41/42\n",
            "2188/2188 [==============================] - 56s 26ms/step - loss: 2.3417 - acc: 0.1006 - val_loss: 1.9027 - val_acc: 0.0983\n",
            "Epoch 42/42\n",
            "2188/2188 [==============================] - 56s 26ms/step - loss: 2.7378 - acc: 0.1007 - val_loss: 3.6603 - val_acc: 0.0999\n"
          ],
          "name": "stdout"
        },
        {
          "output_type": "display_data",
          "data": {
            "image/png": "[encoded data removed]",
            "text/plain": [
              "<Figure size 432x288 with 1 Axes>"
            ]
          },
          "metadata": {
            "tags": [],
            "needs_background": "light"
          }
        },
        {
          "output_type": "display_data",
          "data": {
            "image/png": "[encoded data removed]",
            "text/plain": [
              "<Figure size 432x288 with 1 Axes>"
            ]
          },
          "metadata": {
            "tags": [],
            "needs_background": "light"
          }
        }
      ]
    },
    {
      "cell_type": "code",
      "metadata": {
        "id": "A75OC2C0wEnw"
      },
      "source": [
        "model.summary()"
      ],
      "execution_count": null,
      "outputs": []
    },
    {
      "cell_type": "code",
      "metadata": {
        "id": "Uo4bmPDAuZte"
      },
      "source": [
        ""
      ],
      "execution_count": null,
      "outputs": []
    }
  ]
}