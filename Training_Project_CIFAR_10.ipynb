{
  "nbformat": 4,
  "nbformat_minor": 0,
  "metadata": {
    "colab": {
      "name": "Training Project CIFAR-10.ipynb",
      "provenance": [],
      "collapsed_sections": [],
      "authorship_tag": "ABX9TyPhdOTCcvbAlveSsJHyw7JY",
      "include_colab_link": true
    },
    "kernelspec": {
      "name": "python3",
      "display_name": "Python 3"
    },
    "language_info": {
      "name": "python"
    },
    "accelerator": "GPU"
  },
  "cells": [
    {
      "cell_type": "markdown",
      "metadata": {
        "id": "view-in-github",
        "colab_type": "text"
      },
      "source": [
        "<a href=\"https://colab.research.google.com/github/LucasColas/Project-with-CIFAR-10/blob/main/Training_Project_CIFAR_10.ipynb\" target=\"_parent\"><img src=\"https://colab.research.google.com/assets/colab-badge.svg\" alt=\"Open In Colab\"/></a>"
      ]
    },
    {
      "cell_type": "markdown",
      "metadata": {
        "id": "Ti2F1OvacOXo"
      },
      "source": [
        "Les modules"
      ]
    },
    {
      "cell_type": "code",
      "metadata": {
        "colab": {
          "base_uri": "https://localhost:8080/"
        },
        "id": "eLfXFTQGuR9P",
        "outputId": "7fa484d1-d23d-48a2-a3db-86c8c9a41d0f"
      },
      "source": [
        "import matplotlib.pyplot as plt\n",
        "import numpy as np\n",
        "import tensorflow as tf\n",
        "from tensorflow import keras\n",
        "#from tensorflow.keras.applications import VGG16\n",
        "from tensorflow.keras import layers, models, optimizers, regularizers\n",
        "from tensorflow.keras.applications.vgg16 import VGG16\n",
        "\n",
        "VGG_model = VGG16(weights=\"imagenet\", include_top=False, input_shape=(32,32,3))\n",
        "VGG_model.summary()\n",
        "\n",
        "(X_train, y_train), (X_test, y_test) = keras.datasets.cifar10.load_data()\n",
        "X_train = X_train.astype('float32')\n",
        "X_test = X_test.astype('float32')\n",
        "print(X_train.dtype, y_train.shape, X_test.shape, y_test.shape)"
      ],
      "execution_count": 1,
      "outputs": [
        {
          "output_type": "stream",
          "text": [
            "Downloading data from https://storage.googleapis.com/tensorflow/keras-applications/vgg16/vgg16_weights_tf_dim_ordering_tf_kernels_notop.h5\n",
            "58892288/58889256 [==============================] - 0s 0us/step\n",
            "Model: \"vgg16\"\n",
            "_________________________________________________________________\n",
            "Layer (type)                 Output Shape              Param #   \n",
            "=================================================================\n",
            "input_1 (InputLayer)         [(None, 32, 32, 3)]       0         \n",
            "_________________________________________________________________\n",
            "block1_conv1 (Conv2D)        (None, 32, 32, 64)        1792      \n",
            "_________________________________________________________________\n",
            "block1_conv2 (Conv2D)        (None, 32, 32, 64)        36928     \n",
            "_________________________________________________________________\n",
            "block1_pool (MaxPooling2D)   (None, 16, 16, 64)        0         \n",
            "_________________________________________________________________\n",
            "block2_conv1 (Conv2D)        (None, 16, 16, 128)       73856     \n",
            "_________________________________________________________________\n",
            "block2_conv2 (Conv2D)        (None, 16, 16, 128)       147584    \n",
            "_________________________________________________________________\n",
            "block2_pool (MaxPooling2D)   (None, 8, 8, 128)         0         \n",
            "_________________________________________________________________\n",
            "block3_conv1 (Conv2D)        (None, 8, 8, 256)         295168    \n",
            "_________________________________________________________________\n",
            "block3_conv2 (Conv2D)        (None, 8, 8, 256)         590080    \n",
            "_________________________________________________________________\n",
            "block3_conv3 (Conv2D)        (None, 8, 8, 256)         590080    \n",
            "_________________________________________________________________\n",
            "block3_pool (MaxPooling2D)   (None, 4, 4, 256)         0         \n",
            "_________________________________________________________________\n",
            "block4_conv1 (Conv2D)        (None, 4, 4, 512)         1180160   \n",
            "_________________________________________________________________\n",
            "block4_conv2 (Conv2D)        (None, 4, 4, 512)         2359808   \n",
            "_________________________________________________________________\n",
            "block4_conv3 (Conv2D)        (None, 4, 4, 512)         2359808   \n",
            "_________________________________________________________________\n",
            "block4_pool (MaxPooling2D)   (None, 2, 2, 512)         0         \n",
            "_________________________________________________________________\n",
            "block5_conv1 (Conv2D)        (None, 2, 2, 512)         2359808   \n",
            "_________________________________________________________________\n",
            "block5_conv2 (Conv2D)        (None, 2, 2, 512)         2359808   \n",
            "_________________________________________________________________\n",
            "block5_conv3 (Conv2D)        (None, 2, 2, 512)         2359808   \n",
            "_________________________________________________________________\n",
            "block5_pool (MaxPooling2D)   (None, 1, 1, 512)         0         \n",
            "=================================================================\n",
            "Total params: 14,714,688\n",
            "Trainable params: 14,714,688\n",
            "Non-trainable params: 0\n",
            "_________________________________________________________________\n",
            "Downloading data from https://www.cs.toronto.edu/~kriz/cifar-10-python.tar.gz\n",
            "170500096/170498071 [==============================] - 4s 0us/step\n",
            "float32 (50000, 1) (10000, 32, 32, 3) (10000, 1)\n"
          ],
          "name": "stdout"
        }
      ]
    },
    {
      "cell_type": "markdown",
      "metadata": {
        "id": "B_XkHfSzcSBw"
      },
      "source": [
        "One Hot Encoding"
      ]
    },
    {
      "cell_type": "code",
      "metadata": {
        "id": "nxMxJk2KuZzE"
      },
      "source": [
        "def sort_labels(y_train, y_test):\n",
        "\n",
        "    Y_train = np.zeros((50000,10))\n",
        "    Y_test = np.zeros((10000,10))\n",
        "    for index, label in enumerate(y_train):\n",
        "        Y_train[index, label] = 1\n",
        "\n",
        "    for index, label in enumerate(y_test):\n",
        "        Y_test[index, label] = 1\n",
        "\n",
        "\n",
        "    return Y_train, Y_test\n",
        "\n",
        "Y_train, Y_test = sort_labels(y_train, y_test)"
      ],
      "execution_count": 2,
      "outputs": []
    },
    {
      "cell_type": "markdown",
      "metadata": {
        "id": "YW3-u3lgcW-3"
      },
      "source": [
        "Unfreeze les derniers layers"
      ]
    },
    {
      "cell_type": "code",
      "metadata": {
        "id": "QxvcPFqpf8ro"
      },
      "source": [
        "VGG_model.trainable = True\n",
        "set_trainable = False\n",
        "for layer in VGG_model.layers:\n",
        "  #print(layer.name)\n",
        "  if layer.name == 'block5_conv3':\n",
        "    set_trainable = True\n",
        "  \n",
        "  if set_trainable:\n",
        "    layer.trainable = True \n",
        "\n",
        "  else:\n",
        "    layer.trainable = False"
      ],
      "execution_count": 3,
      "outputs": []
    },
    {
      "cell_type": "markdown",
      "metadata": {
        "id": "KhAGYg6KcZki"
      },
      "source": [
        "Preprocessing"
      ]
    },
    {
      "cell_type": "code",
      "metadata": {
        "id": "LMODG_qcKiTV"
      },
      "source": [
        "X_train /= 255\n",
        "X_test /= 255"
      ],
      "execution_count": 4,
      "outputs": []
    },
    {
      "cell_type": "markdown",
      "metadata": {
        "id": "Arkell7Fcc5-"
      },
      "source": [
        "Entrainemenet avec LR élevé"
      ]
    },
    {
      "cell_type": "code",
      "metadata": {
        "id": "O_bs_U-5gMsB",
        "colab": {
          "base_uri": "https://localhost:8080/"
        },
        "outputId": "05222422-2da7-4ab8-aa53-4b6b26f13e0a"
      },
      "source": [
        "model = models.Sequential()\n",
        "model.add(VGG_model)\n",
        "model.add(layers.Flatten())\n",
        "model.add(layers.Dense(256, activation='relu'))\n",
        "model.add(layers.Dropout(0.25))\n",
        "model.add(layers.Dense(10, activation='softmax'))\n",
        "\n",
        "lr = 0.01\n",
        "model.compile(loss=\"categorical_crossentropy\", optimizer=optimizers.SGD(lr), metrics=[\"acc\"])\n",
        "model.fit(X_train, Y_train, validation_data=(X_test, Y_test), batch_size=16, epochs=10, verbose=1)"
      ],
      "execution_count": 5,
      "outputs": [
        {
          "output_type": "stream",
          "text": [
            "Epoch 1/10\n",
            "3125/3125 [==============================] - 63s 10ms/step - loss: 1.3343 - acc: 0.5295 - val_loss: 1.1147 - val_acc: 0.6107\n",
            "Epoch 2/10\n",
            "3125/3125 [==============================] - 31s 10ms/step - loss: 1.1094 - acc: 0.6119 - val_loss: 1.0558 - val_acc: 0.6290\n",
            "Epoch 3/10\n",
            "3125/3125 [==============================] - 32s 10ms/step - loss: 1.0358 - acc: 0.6375 - val_loss: 1.0134 - val_acc: 0.6462\n",
            "Epoch 4/10\n",
            "3125/3125 [==============================] - 31s 10ms/step - loss: 0.9838 - acc: 0.6549 - val_loss: 1.0496 - val_acc: 0.6342\n",
            "Epoch 5/10\n",
            "3125/3125 [==============================] - 31s 10ms/step - loss: 0.9469 - acc: 0.6678 - val_loss: 0.9468 - val_acc: 0.6696\n",
            "Epoch 6/10\n",
            "3125/3125 [==============================] - 31s 10ms/step - loss: 0.9147 - acc: 0.6783 - val_loss: 0.9657 - val_acc: 0.6648\n",
            "Epoch 7/10\n",
            "3125/3125 [==============================] - 32s 10ms/step - loss: 0.8836 - acc: 0.6903 - val_loss: 0.9538 - val_acc: 0.6681\n",
            "Epoch 8/10\n",
            "3125/3125 [==============================] - 31s 10ms/step - loss: 0.8623 - acc: 0.6969 - val_loss: 0.9585 - val_acc: 0.6712\n",
            "Epoch 9/10\n",
            "3125/3125 [==============================] - 32s 10ms/step - loss: 0.8383 - acc: 0.7041 - val_loss: 0.9217 - val_acc: 0.6788\n",
            "Epoch 10/10\n",
            "3125/3125 [==============================] - 31s 10ms/step - loss: 0.8168 - acc: 0.7116 - val_loss: 0.9434 - val_acc: 0.6713\n"
          ],
          "name": "stdout"
        },
        {
          "output_type": "execute_result",
          "data": {
            "text/plain": [
              "<tensorflow.python.keras.callbacks.History at 0x7f51700cb950>"
            ]
          },
          "metadata": {
            "tags": []
          },
          "execution_count": 5
        }
      ]
    },
    {
      "cell_type": "markdown",
      "metadata": {
        "id": "HRHMF8gqcftS"
      },
      "source": [
        "Entrainement de toutes les couches"
      ]
    },
    {
      "cell_type": "code",
      "metadata": {
        "id": "qssKQ0slOaOt"
      },
      "source": [
        "for layer in model.layers:\n",
        "  layer.trainable = True\n",
        "\n"
      ],
      "execution_count": 6,
      "outputs": []
    },
    {
      "cell_type": "code",
      "metadata": {
        "colab": {
          "base_uri": "https://localhost:8080/"
        },
        "id": "ul2q1YwUOjpI",
        "outputId": "5281d53b-26e8-4d01-c7a1-709466110456"
      },
      "source": [
        "model.summary()"
      ],
      "execution_count": 7,
      "outputs": [
        {
          "output_type": "stream",
          "text": [
            "Model: \"sequential\"\n",
            "_________________________________________________________________\n",
            "Layer (type)                 Output Shape              Param #   \n",
            "=================================================================\n",
            "vgg16 (Functional)           (None, 1, 1, 512)         14714688  \n",
            "_________________________________________________________________\n",
            "flatten (Flatten)            (None, 512)               0         \n",
            "_________________________________________________________________\n",
            "dense (Dense)                (None, 256)               131328    \n",
            "_________________________________________________________________\n",
            "dropout (Dropout)            (None, 256)               0         \n",
            "_________________________________________________________________\n",
            "dense_1 (Dense)              (None, 10)                2570      \n",
            "=================================================================\n",
            "Total params: 14,848,586\n",
            "Trainable params: 14,848,586\n",
            "Non-trainable params: 0\n",
            "_________________________________________________________________\n"
          ],
          "name": "stdout"
        }
      ]
    },
    {
      "cell_type": "code",
      "metadata": {
        "id": "IT959QAJg-au"
      },
      "source": [
        "\n",
        "model = models.Sequential()\n",
        "model.add(VGG_model)\n",
        "model.add(layers.Flatten())\n",
        "model.add(layers.Dense(256, activation='relu'))\n",
        "model.add(layers.Dropout(0.25))\n",
        "model.add(layers.Dense(10, activation='softmax'))"
      ],
      "execution_count": 8,
      "outputs": []
    },
    {
      "cell_type": "code",
      "metadata": {
        "colab": {
          "base_uri": "https://localhost:8080/"
        },
        "id": "GQOOQ4fQg_ZJ",
        "outputId": "03daf624-e843-48c8-a325-fc2141735904"
      },
      "source": [
        "model.summary()"
      ],
      "execution_count": 9,
      "outputs": [
        {
          "output_type": "stream",
          "text": [
            "Model: \"sequential_1\"\n",
            "_________________________________________________________________\n",
            "Layer (type)                 Output Shape              Param #   \n",
            "=================================================================\n",
            "vgg16 (Functional)           (None, 1, 1, 512)         14714688  \n",
            "_________________________________________________________________\n",
            "flatten_1 (Flatten)          (None, 512)               0         \n",
            "_________________________________________________________________\n",
            "dense_2 (Dense)              (None, 256)               131328    \n",
            "_________________________________________________________________\n",
            "dropout_1 (Dropout)          (None, 256)               0         \n",
            "_________________________________________________________________\n",
            "dense_3 (Dense)              (None, 10)                2570      \n",
            "=================================================================\n",
            "Total params: 14,848,586\n",
            "Trainable params: 14,848,586\n",
            "Non-trainable params: 0\n",
            "_________________________________________________________________\n"
          ],
          "name": "stdout"
        }
      ]
    },
    {
      "cell_type": "code",
      "metadata": {
        "colab": {
          "base_uri": "https://localhost:8080/",
          "height": 1000
        },
        "id": "ly_KG6yAuZwY",
        "outputId": "0c584678-5ccc-4805-a624-0949694c73b3"
      },
      "source": [
        "\n",
        "\n",
        "\n",
        "model.compile(optimizer=optimizers.SGD(lr=0.0001),loss=\"categorical_crossentropy\", metrics=[\"acc\"])\n",
        "history = model.fit(X_train, Y_train, batch_size=16, epochs=42, validation_split=(0.3))\n",
        "model.save(\"training.h5\")\n",
        "\n",
        "\n",
        "\n",
        "acc = history.history['acc']\n",
        "val_acc = history.history['val_acc']\n",
        "loss = history.history['loss']\n",
        "val_loss = history.history['val_loss']\n",
        "\n",
        "epochs = range(1,len(acc)+1)\n",
        "\n",
        "plt.plot(epochs,acc,'bo', label='Training acc')\n",
        "plt.plot(epochs, val_acc,'b', label='Validation acc')\n",
        "plt.title('Training and validation accuracy')\n",
        "plt.legend()\n",
        "\n",
        "plt.figure()\n",
        "\n",
        "plt.plot(epochs, loss, 'bo', label='Training loss')\n",
        "plt.plot(epochs, val_loss, 'b', label='Validation loss')\n",
        "plt.title('Training and validation loss')\n",
        "plt.legend()\n",
        "\n",
        "plt.show()\n"
      ],
      "execution_count": 10,
      "outputs": [
        {
          "output_type": "stream",
          "text": [
            "/usr/local/lib/python3.7/dist-packages/tensorflow/python/keras/optimizer_v2/optimizer_v2.py:375: UserWarning: The `lr` argument is deprecated, use `learning_rate` instead.\n",
            "  \"The `lr` argument is deprecated, use `learning_rate` instead.\")\n"
          ],
          "name": "stderr"
        },
        {
          "output_type": "stream",
          "text": [
            "Epoch 1/42\n",
            "2188/2188 [==============================] - 57s 25ms/step - loss: 1.9421 - acc: 0.3146 - val_loss: 1.4198 - val_acc: 0.5350\n",
            "Epoch 2/42\n",
            "2188/2188 [==============================] - 55s 25ms/step - loss: 1.3517 - acc: 0.5385 - val_loss: 1.1148 - val_acc: 0.6188\n",
            "Epoch 3/42\n",
            "2188/2188 [==============================] - 55s 25ms/step - loss: 1.1119 - acc: 0.6211 - val_loss: 0.9432 - val_acc: 0.6797\n",
            "Epoch 4/42\n",
            "2188/2188 [==============================] - 56s 25ms/step - loss: 0.9832 - acc: 0.6672 - val_loss: 0.9024 - val_acc: 0.6938\n",
            "Epoch 5/42\n",
            "2188/2188 [==============================] - 56s 26ms/step - loss: 0.9008 - acc: 0.6913 - val_loss: 0.8365 - val_acc: 0.7143\n",
            "Epoch 6/42\n",
            "2188/2188 [==============================] - 60s 27ms/step - loss: 0.8440 - acc: 0.7165 - val_loss: 0.8041 - val_acc: 0.7222\n",
            "Epoch 7/42\n",
            "2188/2188 [==============================] - 56s 26ms/step - loss: 0.7942 - acc: 0.7301 - val_loss: 0.7429 - val_acc: 0.7469\n",
            "Epoch 8/42\n",
            "2188/2188 [==============================] - 56s 26ms/step - loss: 0.7538 - acc: 0.7419 - val_loss: 0.7258 - val_acc: 0.7517\n",
            "Epoch 9/42\n",
            "2188/2188 [==============================] - 56s 26ms/step - loss: 0.7233 - acc: 0.7524 - val_loss: 0.7179 - val_acc: 0.7519\n",
            "Epoch 10/42\n",
            "2188/2188 [==============================] - 60s 27ms/step - loss: 0.6957 - acc: 0.7638 - val_loss: 0.7090 - val_acc: 0.7535\n",
            "Epoch 11/42\n",
            "2188/2188 [==============================] - 56s 26ms/step - loss: 0.6673 - acc: 0.7725 - val_loss: 0.7018 - val_acc: 0.7555\n",
            "Epoch 12/42\n",
            "2188/2188 [==============================] - 60s 27ms/step - loss: 0.6461 - acc: 0.7804 - val_loss: 0.6652 - val_acc: 0.7693\n",
            "Epoch 13/42\n",
            "2188/2188 [==============================] - 60s 27ms/step - loss: 0.6214 - acc: 0.7860 - val_loss: 0.6403 - val_acc: 0.7783\n",
            "Epoch 14/42\n",
            "2188/2188 [==============================] - 56s 26ms/step - loss: 0.5997 - acc: 0.7942 - val_loss: 0.6466 - val_acc: 0.7753\n",
            "Epoch 15/42\n",
            "2188/2188 [==============================] - 60s 27ms/step - loss: 0.5823 - acc: 0.8002 - val_loss: 0.6247 - val_acc: 0.7826\n",
            "Epoch 16/42\n",
            "2188/2188 [==============================] - 56s 26ms/step - loss: 0.5652 - acc: 0.8103 - val_loss: 0.6125 - val_acc: 0.7893\n",
            "Epoch 17/42\n",
            "2188/2188 [==============================] - 56s 26ms/step - loss: 0.5488 - acc: 0.8145 - val_loss: 0.6110 - val_acc: 0.7906\n",
            "Epoch 18/42\n",
            "2188/2188 [==============================] - 60s 27ms/step - loss: 0.5331 - acc: 0.8193 - val_loss: 0.6097 - val_acc: 0.7921\n",
            "Epoch 19/42\n",
            "2188/2188 [==============================] - 56s 26ms/step - loss: 0.5164 - acc: 0.8235 - val_loss: 0.6030 - val_acc: 0.7913\n",
            "Epoch 20/42\n",
            "2188/2188 [==============================] - 56s 26ms/step - loss: 0.5021 - acc: 0.8287 - val_loss: 0.6039 - val_acc: 0.7921\n",
            "Epoch 21/42\n",
            "2188/2188 [==============================] - 56s 26ms/step - loss: 0.4893 - acc: 0.8332 - val_loss: 0.5833 - val_acc: 0.7992\n",
            "Epoch 22/42\n",
            "2188/2188 [==============================] - 60s 27ms/step - loss: 0.4736 - acc: 0.8373 - val_loss: 0.6037 - val_acc: 0.7907\n",
            "Epoch 23/42\n",
            "2188/2188 [==============================] - 60s 27ms/step - loss: 0.4593 - acc: 0.8452 - val_loss: 0.5904 - val_acc: 0.7982\n",
            "Epoch 24/42\n",
            "2188/2188 [==============================] - 56s 26ms/step - loss: 0.4479 - acc: 0.8480 - val_loss: 0.5853 - val_acc: 0.8007\n",
            "Epoch 25/42\n",
            "2188/2188 [==============================] - 60s 27ms/step - loss: 0.4352 - acc: 0.8511 - val_loss: 0.5924 - val_acc: 0.7983\n",
            "Epoch 26/42\n",
            "2188/2188 [==============================] - 60s 27ms/step - loss: 0.4211 - acc: 0.8566 - val_loss: 0.5777 - val_acc: 0.8038\n",
            "Epoch 27/42\n",
            "2188/2188 [==============================] - 60s 27ms/step - loss: 0.4096 - acc: 0.8606 - val_loss: 0.5600 - val_acc: 0.8087\n",
            "Epoch 28/42\n",
            "2188/2188 [==============================] - 60s 27ms/step - loss: 0.3991 - acc: 0.8669 - val_loss: 0.5703 - val_acc: 0.8065\n",
            "Epoch 29/42\n",
            "2188/2188 [==============================] - 60s 27ms/step - loss: 0.3848 - acc: 0.8696 - val_loss: 0.5660 - val_acc: 0.8067\n",
            "Epoch 30/42\n",
            "2188/2188 [==============================] - 56s 26ms/step - loss: 0.3800 - acc: 0.8721 - val_loss: 0.5743 - val_acc: 0.8063\n",
            "Epoch 31/42\n",
            "2188/2188 [==============================] - 56s 26ms/step - loss: 0.3651 - acc: 0.8776 - val_loss: 0.5631 - val_acc: 0.8097\n",
            "Epoch 32/42\n",
            "2188/2188 [==============================] - 60s 27ms/step - loss: 0.3558 - acc: 0.8792 - val_loss: 0.5956 - val_acc: 0.8042\n",
            "Epoch 33/42\n",
            "2188/2188 [==============================] - 60s 27ms/step - loss: 0.3448 - acc: 0.8830 - val_loss: 0.5727 - val_acc: 0.8071\n",
            "Epoch 34/42\n",
            "2188/2188 [==============================] - 60s 27ms/step - loss: 0.3343 - acc: 0.8879 - val_loss: 0.5823 - val_acc: 0.8061\n",
            "Epoch 35/42\n",
            "2188/2188 [==============================] - 60s 27ms/step - loss: 0.3221 - acc: 0.8909 - val_loss: 0.5738 - val_acc: 0.8047\n",
            "Epoch 36/42\n",
            "2188/2188 [==============================] - 60s 27ms/step - loss: 0.3131 - acc: 0.8936 - val_loss: 0.5595 - val_acc: 0.8164\n",
            "Epoch 37/42\n",
            "2188/2188 [==============================] - 56s 26ms/step - loss: 0.3029 - acc: 0.8969 - val_loss: 0.6616 - val_acc: 0.7870\n",
            "Epoch 38/42\n",
            "2188/2188 [==============================] - 56s 26ms/step - loss: 0.2922 - acc: 0.9007 - val_loss: 0.5545 - val_acc: 0.8165\n",
            "Epoch 39/42\n",
            "2188/2188 [==============================] - 56s 26ms/step - loss: 0.2870 - acc: 0.9025 - val_loss: 0.5668 - val_acc: 0.8140\n",
            "Epoch 40/42\n",
            "2188/2188 [==============================] - 60s 27ms/step - loss: 0.2754 - acc: 0.9075 - val_loss: 0.5701 - val_acc: 0.8161\n",
            "Epoch 41/42\n",
            "2188/2188 [==============================] - 60s 27ms/step - loss: 0.2663 - acc: 0.9123 - val_loss: 0.5928 - val_acc: 0.8093\n",
            "Epoch 42/42\n",
            "2188/2188 [==============================] - 56s 26ms/step - loss: 0.2575 - acc: 0.9145 - val_loss: 0.6124 - val_acc: 0.8110\n"
          ],
          "name": "stdout"
        },
        {
          "output_type": "display_data",
          "data": {
            "image/png": "[encoded data removed]",
            "text/plain": [
              "<Figure size 432x288 with 1 Axes>"
            ]
          },
          "metadata": {
            "tags": [],
            "needs_background": "light"
          }
        },
        {
          "output_type": "display_data",
          "data": {
            "image/png": "[encoded data removed]",
            "text/plain": [
              "<Figure size 432x288 with 1 Axes>"
            ]
          },
          "metadata": {
            "tags": [],
            "needs_background": "light"
          }
        }
      ]
    },
    {
      "cell_type": "code",
      "metadata": {
        "id": "A75OC2C0wEnw"
      },
      "source": [
        "model.summary()"
      ],
      "execution_count": null,
      "outputs": []
    },
    {
      "cell_type": "code",
      "metadata": {
        "id": "Uo4bmPDAuZte"
      },
      "source": [
        ""
      ],
      "execution_count": null,
      "outputs": []
    }
  ]
}