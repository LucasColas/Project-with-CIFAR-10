{
  "nbformat": 4,
  "nbformat_minor": 0,
  "metadata": {
    "colab": {
      "name": "Training Project CIFAR-10.ipynb",
      "provenance": [],
      "authorship_tag": "ABX9TyOJBIL3gF1AWfTE4u5FPX/Z",
      "include_colab_link": true
    },
    "kernelspec": {
      "name": "python3",
      "display_name": "Python 3"
    },
    "language_info": {
      "name": "python"
    },
    "accelerator": "GPU"
  },
  "cells": [
    {
      "cell_type": "markdown",
      "metadata": {
        "id": "view-in-github",
        "colab_type": "text"
      },
      "source": [
        "<a href=\"https://colab.research.google.com/github/LucasColas/Project-with-CIFAR-10/blob/main/Training_Project_CIFAR_10.ipynb\" target=\"_parent\"><img src=\"https://colab.research.google.com/assets/colab-badge.svg\" alt=\"Open In Colab\"/></a>"
      ]
    },
    {
      "cell_type": "code",
      "metadata": {
        "colab": {
          "base_uri": "https://localhost:8080/"
        },
        "id": "eLfXFTQGuR9P",
        "outputId": "bc64f150-dc17-46dd-f0ec-f2588a760402"
      },
      "source": [
        "import matplotlib.pyplot as plt\n",
        "import numpy as np\n",
        "import tensorflow as tf\n",
        "from tensorflow import keras\n",
        "#from tensorflow.keras.applications import VGG16\n",
        "from tensorflow.keras import layers, models, optimizers, regularizers\n",
        "from tensorflow.keras.applications.vgg16 import VGG16\n",
        "\n",
        "VGG_model = VGG16(weights=\"imagenet\", include_top=False, input_shape=(32,32,3))\n",
        "VGG_model.summary()\n",
        "\n",
        "(X_train, y_train), (X_test, y_test) = keras.datasets.cifar10.load_data()\n",
        "X_train = X_train.astype('float32')\n",
        "X_test = X_test.astype('float32')\n",
        "print(X_train.dtype, y_train.shape, X_test.shape, y_test.shape)"
      ],
      "execution_count": 1,
      "outputs": [
        {
          "output_type": "stream",
          "text": [
            "Downloading data from https://storage.googleapis.com/tensorflow/keras-applications/vgg16/vgg16_weights_tf_dim_ordering_tf_kernels_notop.h5\n",
            "58892288/58889256 [==============================] - 1s 0us/step\n",
            "Model: \"vgg16\"\n",
            "_________________________________________________________________\n",
            "Layer (type)                 Output Shape              Param #   \n",
            "=================================================================\n",
            "input_1 (InputLayer)         [(None, 32, 32, 3)]       0         \n",
            "_________________________________________________________________\n",
            "block1_conv1 (Conv2D)        (None, 32, 32, 64)        1792      \n",
            "_________________________________________________________________\n",
            "block1_conv2 (Conv2D)        (None, 32, 32, 64)        36928     \n",
            "_________________________________________________________________\n",
            "block1_pool (MaxPooling2D)   (None, 16, 16, 64)        0         \n",
            "_________________________________________________________________\n",
            "block2_conv1 (Conv2D)        (None, 16, 16, 128)       73856     \n",
            "_________________________________________________________________\n",
            "block2_conv2 (Conv2D)        (None, 16, 16, 128)       147584    \n",
            "_________________________________________________________________\n",
            "block2_pool (MaxPooling2D)   (None, 8, 8, 128)         0         \n",
            "_________________________________________________________________\n",
            "block3_conv1 (Conv2D)        (None, 8, 8, 256)         295168    \n",
            "_________________________________________________________________\n",
            "block3_conv2 (Conv2D)        (None, 8, 8, 256)         590080    \n",
            "_________________________________________________________________\n",
            "block3_conv3 (Conv2D)        (None, 8, 8, 256)         590080    \n",
            "_________________________________________________________________\n",
            "block3_pool (MaxPooling2D)   (None, 4, 4, 256)         0         \n",
            "_________________________________________________________________\n",
            "block4_conv1 (Conv2D)        (None, 4, 4, 512)         1180160   \n",
            "_________________________________________________________________\n",
            "block4_conv2 (Conv2D)        (None, 4, 4, 512)         2359808   \n",
            "_________________________________________________________________\n",
            "block4_conv3 (Conv2D)        (None, 4, 4, 512)         2359808   \n",
            "_________________________________________________________________\n",
            "block4_pool (MaxPooling2D)   (None, 2, 2, 512)         0         \n",
            "_________________________________________________________________\n",
            "block5_conv1 (Conv2D)        (None, 2, 2, 512)         2359808   \n",
            "_________________________________________________________________\n",
            "block5_conv2 (Conv2D)        (None, 2, 2, 512)         2359808   \n",
            "_________________________________________________________________\n",
            "block5_conv3 (Conv2D)        (None, 2, 2, 512)         2359808   \n",
            "_________________________________________________________________\n",
            "block5_pool (MaxPooling2D)   (None, 1, 1, 512)         0         \n",
            "=================================================================\n",
            "Total params: 14,714,688\n",
            "Trainable params: 14,714,688\n",
            "Non-trainable params: 0\n",
            "_________________________________________________________________\n",
            "Downloading data from https://www.cs.toronto.edu/~kriz/cifar-10-python.tar.gz\n",
            "170500096/170498071 [==============================] - 4s 0us/step\n",
            "float32 (50000, 1) (10000, 32, 32, 3) (10000, 1)\n"
          ],
          "name": "stdout"
        }
      ]
    },
    {
      "cell_type": "code",
      "metadata": {
        "id": "nxMxJk2KuZzE"
      },
      "source": [
        "def sort_test_set(y_train, y_test):\n",
        "\n",
        "    Y_train = np.zeros((50000,10))\n",
        "    Y_test = np.zeros((10000,10))\n",
        "    for index, label in enumerate(y_train):\n",
        "        Y_train[index, label] = 1\n",
        "\n",
        "    for index, label in enumerate(y_test):\n",
        "        Y_test[index, label] = 1\n",
        "\n",
        "\n",
        "    return Y_train, Y_test\n",
        "\n",
        "Y_train, Y_test = sort_test_set(y_train, y_test)"
      ],
      "execution_count": 2,
      "outputs": []
    },
    {
      "cell_type": "code",
      "metadata": {
        "colab": {
          "base_uri": "https://localhost:8080/"
        },
        "id": "ly_KG6yAuZwY",
        "outputId": "65763cb8-1ae3-44ab-c9d4-6a43b147da01"
      },
      "source": [
        "X_train /= 255\n",
        "VGG_model.trainable = True\n",
        "set_trainable = False\n",
        "for layer in VGG_model.layers:\n",
        "    if layer.name == 'block5_conv1':\n",
        "        set_trainable = True\n",
        "\n",
        "    if set_trainable:\n",
        "        layer.trainable = True\n",
        "\n",
        "    else:\n",
        "        layer.trainable = False\n",
        "\n",
        "model = models.Sequential()\n",
        "model.add(VGG_model)\n",
        "model.add(layers.Flatten())\n",
        "model.add(layers.Dense(64, activation='relu'))\n",
        "model.add(layers.Dropout(0.25))\n",
        "model.add(layers.Dense(10, activation='softmax'))\n",
        "\n",
        "\n",
        "model.compile(optimizer=optimizers.SGD(lr=9e-3),loss=\"categorical_crossentropy\", metrics=[\"acc\"])\n",
        "history = model.fit(X_train, Y_train, batch_size=32, epochs=42, validation_split=(0.25))\n",
        "model.save(\"training.h5\")\n",
        "\n",
        "\n",
        "\n",
        "acc = history.history['acc']\n",
        "val_acc = history.history['val_acc']\n",
        "loss = history.history['loss']\n",
        "val_loss = history.history['val_loss']\n",
        "\n",
        "epochs = range(1,len(acc)+1)\n",
        "\n",
        "plt.plot(epochs,acc,'bo', label='Training acc')\n",
        "plt.plot(epochs, val_acc,'b', label='Validation acc')\n",
        "plt.title('Training and validation accuracy')\n",
        "plt.legend()\n",
        "\n",
        "plt.figure()\n",
        "\n",
        "plt.plot(epochs, loss, 'bo', label='Training loss')\n",
        "plt.plot(epochs, val_loss, 'b', label='Validation loss')\n",
        "plt.title('Training and validation loss')\n",
        "plt.legend()\n",
        "\n",
        "plt.show()\n"
      ],
      "execution_count": null,
      "outputs": [
        {
          "output_type": "stream",
          "text": [
            "/usr/local/lib/python3.7/dist-packages/tensorflow/python/keras/optimizer_v2/optimizer_v2.py:375: UserWarning: The `lr` argument is deprecated, use `learning_rate` instead.\n",
            "  \"The `lr` argument is deprecated, use `learning_rate` instead.\")\n"
          ],
          "name": "stderr"
        },
        {
          "output_type": "stream",
          "text": [
            "Epoch 1/42\n",
            "1172/1172 [==============================] - 53s 18ms/step - loss: 1.3096 - acc: 0.5459 - val_loss: 1.0293 - val_acc: 0.6410\n",
            "Epoch 2/42\n",
            "1172/1172 [==============================] - 20s 17ms/step - loss: 0.9839 - acc: 0.6632 - val_loss: 0.9071 - val_acc: 0.6801\n",
            "Epoch 3/42\n",
            "1172/1172 [==============================] - 20s 17ms/step - loss: 0.8693 - acc: 0.7045 - val_loss: 0.8606 - val_acc: 0.7028\n",
            "Epoch 4/42\n",
            "1172/1172 [==============================] - 22s 19ms/step - loss: 0.7878 - acc: 0.7318 - val_loss: 0.8044 - val_acc: 0.7178\n",
            "Epoch 5/42\n",
            "1172/1172 [==============================] - 20s 17ms/step - loss: 0.7196 - acc: 0.7513 - val_loss: 0.8012 - val_acc: 0.7242\n",
            "Epoch 6/42\n",
            "1172/1172 [==============================] - 20s 17ms/step - loss: 0.6640 - acc: 0.7732 - val_loss: 0.8182 - val_acc: 0.7180\n",
            "Epoch 7/42\n",
            "1172/1172 [==============================] - 20s 17ms/step - loss: 0.6095 - acc: 0.7898 - val_loss: 0.8327 - val_acc: 0.7201\n",
            "Epoch 8/42\n",
            "1172/1172 [==============================] - 20s 17ms/step - loss: 0.5571 - acc: 0.8076 - val_loss: 0.7474 - val_acc: 0.7398\n",
            "Epoch 9/42\n",
            "1172/1172 [==============================] - 22s 19ms/step - loss: 0.5186 - acc: 0.8233 - val_loss: 0.7735 - val_acc: 0.7369\n",
            "Epoch 10/42\n",
            "1172/1172 [==============================] - 20s 17ms/step - loss: 0.4694 - acc: 0.8363 - val_loss: 0.8108 - val_acc: 0.7342\n",
            "Epoch 11/42\n",
            "1172/1172 [==============================] - 20s 17ms/step - loss: 0.4228 - acc: 0.8537 - val_loss: 0.8018 - val_acc: 0.7350\n",
            "Epoch 12/42\n",
            "1172/1172 [==============================] - 20s 17ms/step - loss: 0.3795 - acc: 0.8686 - val_loss: 0.8094 - val_acc: 0.7474\n",
            "Epoch 13/42\n",
            "1172/1172 [==============================] - 20s 17ms/step - loss: 0.3388 - acc: 0.8831 - val_loss: 0.8283 - val_acc: 0.7435\n",
            "Epoch 14/42\n",
            "1172/1172 [==============================] - 22s 19ms/step - loss: 0.3023 - acc: 0.8954 - val_loss: 0.9401 - val_acc: 0.7330\n",
            "Epoch 15/42\n",
            "1172/1172 [==============================] - 20s 17ms/step - loss: 0.2708 - acc: 0.9060 - val_loss: 0.8626 - val_acc: 0.7506\n",
            "Epoch 16/42\n",
            "1172/1172 [==============================] - 20s 17ms/step - loss: 0.2315 - acc: 0.9200 - val_loss: 0.9699 - val_acc: 0.7331\n",
            "Epoch 17/42\n",
            "1172/1172 [==============================] - 20s 17ms/step - loss: 0.2078 - acc: 0.9285 - val_loss: 1.0307 - val_acc: 0.7286\n",
            "Epoch 18/42\n",
            "1172/1172 [==============================] - 20s 17ms/step - loss: 0.1780 - acc: 0.9394 - val_loss: 0.9634 - val_acc: 0.7455\n",
            "Epoch 19/42\n",
            " 296/1172 [======>.......................] - ETA: 13:13 - loss: 0.1341 - acc: 0.9568"
          ],
          "name": "stdout"
        }
      ]
    },
    {
      "cell_type": "code",
      "metadata": {
        "id": "A75OC2C0wEnw"
      },
      "source": [
        ""
      ],
      "execution_count": null,
      "outputs": []
    },
    {
      "cell_type": "code",
      "metadata": {
        "id": "Uo4bmPDAuZte"
      },
      "source": [
        ""
      ],
      "execution_count": null,
      "outputs": []
    }
  ]
}