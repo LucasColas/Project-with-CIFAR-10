{
  "nbformat": 4,
  "nbformat_minor": 0,
  "metadata": {
    "colab": {
      "name": "Training Project CIFAR-10.ipynb",
      "provenance": [],
      "collapsed_sections": [],
      "authorship_tag": "ABX9TyNRqHhBM3OWDeNm5NAyQsyE",
      "include_colab_link": true
    },
    "kernelspec": {
      "name": "python3",
      "display_name": "Python 3"
    },
    "language_info": {
      "name": "python"
    },
    "accelerator": "GPU"
  },
  "cells": [
    {
      "cell_type": "markdown",
      "metadata": {
        "id": "view-in-github",
        "colab_type": "text"
      },
      "source": [
        "<a href=\"https://colab.research.google.com/github/LucasColas/Project-with-CIFAR-10/blob/main/Training_Project_CIFAR_10.ipynb\" target=\"_parent\"><img src=\"https://colab.research.google.com/assets/colab-badge.svg\" alt=\"Open In Colab\"/></a>"
      ]
    },
    {
      "cell_type": "markdown",
      "metadata": {
        "id": "Ti2F1OvacOXo"
      },
      "source": [
        "Les modules"
      ]
    },
    {
      "cell_type": "code",
      "metadata": {
        "colab": {
          "base_uri": "https://localhost:8080/"
        },
        "id": "eLfXFTQGuR9P",
        "outputId": "c9779ae2-132e-4bd3-f095-b917b0433b66"
      },
      "source": [
        "import matplotlib.pyplot as plt\n",
        "import numpy as np\n",
        "import tensorflow as tf\n",
        "from tensorflow import keras\n",
        "#from tensorflow.keras.applications import VGG16\n",
        "from tensorflow.keras import layers, models, optimizers, regularizers\n",
        "from tensorflow.keras.applications.vgg16 import VGG16\n",
        "\n",
        "VGG_model = VGG16(weights=\"imagenet\", include_top=False, input_shape=(32,32,3))\n",
        "VGG_model.summary()\n",
        "\n",
        "(X_train, y_train), (X_test, y_test) = keras.datasets.cifar10.load_data()\n",
        "X_train = X_train.astype('float32')\n",
        "X_test = X_test.astype('float32')\n",
        "print(X_train.dtype, y_train.shape, X_test.shape, y_test.shape)"
      ],
      "execution_count": 1,
      "outputs": [
        {
          "output_type": "stream",
          "text": [
            "Downloading data from https://storage.googleapis.com/tensorflow/keras-applications/vgg16/vgg16_weights_tf_dim_ordering_tf_kernels_notop.h5\n",
            "58892288/58889256 [==============================] - 0s 0us/step\n",
            "Model: \"vgg16\"\n",
            "_________________________________________________________________\n",
            "Layer (type)                 Output Shape              Param #   \n",
            "=================================================================\n",
            "input_1 (InputLayer)         [(None, 32, 32, 3)]       0         \n",
            "_________________________________________________________________\n",
            "block1_conv1 (Conv2D)        (None, 32, 32, 64)        1792      \n",
            "_________________________________________________________________\n",
            "block1_conv2 (Conv2D)        (None, 32, 32, 64)        36928     \n",
            "_________________________________________________________________\n",
            "block1_pool (MaxPooling2D)   (None, 16, 16, 64)        0         \n",
            "_________________________________________________________________\n",
            "block2_conv1 (Conv2D)        (None, 16, 16, 128)       73856     \n",
            "_________________________________________________________________\n",
            "block2_conv2 (Conv2D)        (None, 16, 16, 128)       147584    \n",
            "_________________________________________________________________\n",
            "block2_pool (MaxPooling2D)   (None, 8, 8, 128)         0         \n",
            "_________________________________________________________________\n",
            "block3_conv1 (Conv2D)        (None, 8, 8, 256)         295168    \n",
            "_________________________________________________________________\n",
            "block3_conv2 (Conv2D)        (None, 8, 8, 256)         590080    \n",
            "_________________________________________________________________\n",
            "block3_conv3 (Conv2D)        (None, 8, 8, 256)         590080    \n",
            "_________________________________________________________________\n",
            "block3_pool (MaxPooling2D)   (None, 4, 4, 256)         0         \n",
            "_________________________________________________________________\n",
            "block4_conv1 (Conv2D)        (None, 4, 4, 512)         1180160   \n",
            "_________________________________________________________________\n",
            "block4_conv2 (Conv2D)        (None, 4, 4, 512)         2359808   \n",
            "_________________________________________________________________\n",
            "block4_conv3 (Conv2D)        (None, 4, 4, 512)         2359808   \n",
            "_________________________________________________________________\n",
            "block4_pool (MaxPooling2D)   (None, 2, 2, 512)         0         \n",
            "_________________________________________________________________\n",
            "block5_conv1 (Conv2D)        (None, 2, 2, 512)         2359808   \n",
            "_________________________________________________________________\n",
            "block5_conv2 (Conv2D)        (None, 2, 2, 512)         2359808   \n",
            "_________________________________________________________________\n",
            "block5_conv3 (Conv2D)        (None, 2, 2, 512)         2359808   \n",
            "_________________________________________________________________\n",
            "block5_pool (MaxPooling2D)   (None, 1, 1, 512)         0         \n",
            "=================================================================\n",
            "Total params: 14,714,688\n",
            "Trainable params: 14,714,688\n",
            "Non-trainable params: 0\n",
            "_________________________________________________________________\n",
            "Downloading data from https://www.cs.toronto.edu/~kriz/cifar-10-python.tar.gz\n",
            "170500096/170498071 [==============================] - 4s 0us/step\n",
            "float32 (50000, 1) (10000, 32, 32, 3) (10000, 1)\n"
          ],
          "name": "stdout"
        }
      ]
    },
    {
      "cell_type": "markdown",
      "metadata": {
        "id": "B_XkHfSzcSBw"
      },
      "source": [
        "One Hot Encoding"
      ]
    },
    {
      "cell_type": "code",
      "metadata": {
        "id": "nxMxJk2KuZzE"
      },
      "source": [
        "def sort_labels(y_train, y_test):\n",
        "\n",
        "    Y_train = np.zeros((50000,10))\n",
        "    Y_test = np.zeros((10000,10))\n",
        "    for index, label in enumerate(y_train):\n",
        "        Y_train[index, label] = 1\n",
        "\n",
        "    for index, label in enumerate(y_test):\n",
        "        Y_test[index, label] = 1\n",
        "\n",
        "\n",
        "    return Y_train, Y_test\n",
        "\n",
        "Y_train, Y_test = sort_labels(y_train, y_test)"
      ],
      "execution_count": 2,
      "outputs": []
    },
    {
      "cell_type": "markdown",
      "metadata": {
        "id": "YW3-u3lgcW-3"
      },
      "source": [
        "Unfreeze les derniers layers"
      ]
    },
    {
      "cell_type": "code",
      "metadata": {
        "id": "QxvcPFqpf8ro"
      },
      "source": [
        "VGG_model.trainable = True\n",
        "set_trainable = False\n",
        "for layer in VGG_model.layers:\n",
        "  #print(layer.name)\n",
        "  if layer.name == 'block5_conv3':\n",
        "    set_trainable = True\n",
        "  \n",
        "  if set_trainable:\n",
        "    layer.trainable = True \n",
        "\n",
        "  else:\n",
        "    layer.trainable = False"
      ],
      "execution_count": 3,
      "outputs": []
    },
    {
      "cell_type": "markdown",
      "metadata": {
        "id": "KhAGYg6KcZki"
      },
      "source": [
        "Preprocessing"
      ]
    },
    {
      "cell_type": "code",
      "metadata": {
        "id": "LMODG_qcKiTV"
      },
      "source": [
        "X_train /= 255\n",
        "X_test /= 255"
      ],
      "execution_count": 4,
      "outputs": []
    },
    {
      "cell_type": "markdown",
      "metadata": {
        "id": "Arkell7Fcc5-"
      },
      "source": [
        "Entrainement avec LR élevé"
      ]
    },
    {
      "cell_type": "code",
      "metadata": {
        "id": "O_bs_U-5gMsB",
        "colab": {
          "base_uri": "https://localhost:8080/"
        },
        "outputId": "8323f5a3-856b-4310-e013-70dbcc9f536d"
      },
      "source": [
        "model = models.Sequential()\n",
        "model.add(VGG_model)\n",
        "model.add(layers.Flatten())\n",
        "model.add(layers.Dense(256, activation='relu'))\n",
        "model.add(layers.Dropout(0.25))\n",
        "model.add(layers.Dense(10, activation='softmax'))\n",
        "\n",
        "lr = 0.01\n",
        "model.compile(loss=\"categorical_crossentropy\", optimizer=optimizers.SGD(lr), metrics=[\"acc\"])\n",
        "model.fit(X_train, Y_train, validation_data=(X_test, Y_test), batch_size=16, epochs=10, verbose=1)"
      ],
      "execution_count": 5,
      "outputs": [
        {
          "output_type": "stream",
          "text": [
            "Epoch 1/10\n",
            "3125/3125 [==============================] - 63s 10ms/step - loss: 1.3322 - acc: 0.5300 - val_loss: 1.1262 - val_acc: 0.6000\n",
            "Epoch 2/10\n",
            "3125/3125 [==============================] - 32s 10ms/step - loss: 1.1066 - acc: 0.6116 - val_loss: 1.1452 - val_acc: 0.5852\n",
            "Epoch 3/10\n",
            "3125/3125 [==============================] - 31s 10ms/step - loss: 1.0369 - acc: 0.6383 - val_loss: 1.0088 - val_acc: 0.6424\n",
            "Epoch 4/10\n",
            "3125/3125 [==============================] - 32s 10ms/step - loss: 0.9824 - acc: 0.6579 - val_loss: 0.9755 - val_acc: 0.6587\n",
            "Epoch 5/10\n",
            "3125/3125 [==============================] - 32s 10ms/step - loss: 0.9495 - acc: 0.6675 - val_loss: 0.9741 - val_acc: 0.6609\n",
            "Epoch 6/10\n",
            "3125/3125 [==============================] - 32s 10ms/step - loss: 0.9145 - acc: 0.6782 - val_loss: 0.9607 - val_acc: 0.6707\n",
            "Epoch 7/10\n",
            "3125/3125 [==============================] - 32s 10ms/step - loss: 0.8868 - acc: 0.6860 - val_loss: 0.9478 - val_acc: 0.6682\n",
            "Epoch 8/10\n",
            "3125/3125 [==============================] - 31s 10ms/step - loss: 0.8607 - acc: 0.6978 - val_loss: 0.9587 - val_acc: 0.6684\n",
            "Epoch 9/10\n",
            "3125/3125 [==============================] - 32s 10ms/step - loss: 0.8372 - acc: 0.7050 - val_loss: 0.9213 - val_acc: 0.6753\n",
            "Epoch 10/10\n",
            "3125/3125 [==============================] - 32s 10ms/step - loss: 0.8169 - acc: 0.7119 - val_loss: 0.9037 - val_acc: 0.6847\n"
          ],
          "name": "stdout"
        },
        {
          "output_type": "execute_result",
          "data": {
            "text/plain": [
              "<tensorflow.python.keras.callbacks.History at 0x7fb9a0067450>"
            ]
          },
          "metadata": {
            "tags": []
          },
          "execution_count": 5
        }
      ]
    },
    {
      "cell_type": "markdown",
      "metadata": {
        "id": "HRHMF8gqcftS"
      },
      "source": [
        "Entrainement de toutes les couches"
      ]
    },
    {
      "cell_type": "code",
      "metadata": {
        "id": "qssKQ0slOaOt"
      },
      "source": [
        "for layer in model.layers:\n",
        "  layer.trainable = True\n",
        "\n"
      ],
      "execution_count": null,
      "outputs": []
    },
    {
      "cell_type": "code",
      "metadata": {
        "colab": {
          "base_uri": "https://localhost:8080/"
        },
        "id": "ul2q1YwUOjpI",
        "outputId": "c398c190-9b42-4d9a-bb46-630287890591"
      },
      "source": [
        "model.summary()"
      ],
      "execution_count": null,
      "outputs": [
        {
          "output_type": "stream",
          "text": [
            "Model: \"sequential\"\n",
            "_________________________________________________________________\n",
            "Layer (type)                 Output Shape              Param #   \n",
            "=================================================================\n",
            "vgg16 (Functional)           (None, 1, 1, 512)         14714688  \n",
            "_________________________________________________________________\n",
            "flatten (Flatten)            (None, 512)               0         \n",
            "_________________________________________________________________\n",
            "dense (Dense)                (None, 256)               131328    \n",
            "_________________________________________________________________\n",
            "dropout (Dropout)            (None, 256)               0         \n",
            "_________________________________________________________________\n",
            "dense_1 (Dense)              (None, 10)                2570      \n",
            "=================================================================\n",
            "Total params: 14,848,586\n",
            "Trainable params: 14,848,586\n",
            "Non-trainable params: 0\n",
            "_________________________________________________________________\n"
          ],
          "name": "stdout"
        }
      ]
    },
    {
      "cell_type": "code",
      "metadata": {
        "id": "IT959QAJg-au"
      },
      "source": [
        "\n",
        "model = models.Sequential()\n",
        "model.add(VGG_model)\n",
        "model.add(layers.Flatten())\n",
        "model.add(layers.Dense(256, activation='relu'))\n",
        "model.add(layers.Dropout(0.25))\n",
        "model.add(layers.Dense(10, activation='softmax'))"
      ],
      "execution_count": null,
      "outputs": []
    },
    {
      "cell_type": "code",
      "metadata": {
        "colab": {
          "base_uri": "https://localhost:8080/"
        },
        "id": "GQOOQ4fQg_ZJ",
        "outputId": "1869241f-3c24-4160-da08-9030117ff0e0"
      },
      "source": [
        "model.summary()"
      ],
      "execution_count": null,
      "outputs": [
        {
          "output_type": "stream",
          "text": [
            "Model: \"sequential_1\"\n",
            "_________________________________________________________________\n",
            "Layer (type)                 Output Shape              Param #   \n",
            "=================================================================\n",
            "vgg16 (Functional)           (None, 1, 1, 512)         14714688  \n",
            "_________________________________________________________________\n",
            "flatten_1 (Flatten)          (None, 512)               0         \n",
            "_________________________________________________________________\n",
            "dense_2 (Dense)              (None, 256)               131328    \n",
            "_________________________________________________________________\n",
            "dropout_1 (Dropout)          (None, 256)               0         \n",
            "_________________________________________________________________\n",
            "dense_3 (Dense)              (None, 10)                2570      \n",
            "=================================================================\n",
            "Total params: 14,848,586\n",
            "Trainable params: 14,848,586\n",
            "Non-trainable params: 0\n",
            "_________________________________________________________________\n"
          ],
          "name": "stdout"
        }
      ]
    },
    {
      "cell_type": "code",
      "metadata": {
        "colab": {
          "base_uri": "https://localhost:8080/",
          "height": 1000
        },
        "id": "ly_KG6yAuZwY",
        "outputId": "1a9ea3f7-358c-4722-b900-659d4f43fc42"
      },
      "source": [
        "\n",
        "\n",
        "\n",
        "model.compile(optimizer=optimizers.SGD(lr=0.0001),loss=\"categorical_crossentropy\", metrics=[\"acc\"])\n",
        "history = model.fit(X_train, Y_train, batch_size=16, epochs=42, validation_split=(0.3))\n",
        "model.save(\"training.h5\")\n",
        "\n",
        "\n",
        "\n",
        "acc = history.history['acc']\n",
        "val_acc = history.history['val_acc']\n",
        "loss = history.history['loss']\n",
        "val_loss = history.history['val_loss']\n",
        "\n",
        "epochs = range(1,len(acc)+1)\n",
        "\n",
        "plt.plot(epochs,acc,'bo', label='Training acc')\n",
        "plt.plot(epochs, val_acc,'b', label='Validation acc')\n",
        "plt.title('Training and validation accuracy')\n",
        "plt.legend()\n",
        "\n",
        "plt.figure()\n",
        "\n",
        "plt.plot(epochs, loss, 'bo', label='Training loss')\n",
        "plt.plot(epochs, val_loss, 'b', label='Validation loss')\n",
        "plt.title('Training and validation loss')\n",
        "plt.legend()\n",
        "\n",
        "plt.show()\n"
      ],
      "execution_count": null,
      "outputs": [
        {
          "output_type": "stream",
          "text": [
            "/usr/local/lib/python3.7/dist-packages/tensorflow/python/keras/optimizer_v2/optimizer_v2.py:375: UserWarning: The `lr` argument is deprecated, use `learning_rate` instead.\n",
            "  \"The `lr` argument is deprecated, use `learning_rate` instead.\")\n"
          ],
          "name": "stderr"
        },
        {
          "output_type": "stream",
          "text": [
            "Epoch 1/42\n",
            "2188/2188 [==============================] - 61s 27ms/step - loss: 1.7254 - acc: 0.3912 - val_loss: 1.1631 - val_acc: 0.6062\n",
            "Epoch 2/42\n",
            "2188/2188 [==============================] - 55s 25ms/step - loss: 1.1738 - acc: 0.5913 - val_loss: 0.9743 - val_acc: 0.6633\n",
            "Epoch 3/42\n",
            "2188/2188 [==============================] - 55s 25ms/step - loss: 1.0060 - acc: 0.6517 - val_loss: 0.8638 - val_acc: 0.7029\n",
            "Epoch 4/42\n",
            "2188/2188 [==============================] - 55s 25ms/step - loss: 0.9131 - acc: 0.6837 - val_loss: 0.8339 - val_acc: 0.7094\n",
            "Epoch 5/42\n",
            "2188/2188 [==============================] - 55s 25ms/step - loss: 0.8459 - acc: 0.7078 - val_loss: 0.7721 - val_acc: 0.7327\n",
            "Epoch 6/42\n",
            "2188/2188 [==============================] - 55s 25ms/step - loss: 0.7924 - acc: 0.7275 - val_loss: 0.7465 - val_acc: 0.7432\n",
            "Epoch 7/42\n",
            "2188/2188 [==============================] - 55s 25ms/step - loss: 0.7493 - acc: 0.7435 - val_loss: 0.7153 - val_acc: 0.7528\n",
            "Epoch 8/42\n",
            "2188/2188 [==============================] - 59s 27ms/step - loss: 0.7176 - acc: 0.7527 - val_loss: 0.7080 - val_acc: 0.7559\n",
            "Epoch 9/42\n",
            "2188/2188 [==============================] - 59s 27ms/step - loss: 0.6850 - acc: 0.7631 - val_loss: 0.6895 - val_acc: 0.7595\n",
            "Epoch 10/42\n",
            "2188/2188 [==============================] - 55s 25ms/step - loss: 0.6559 - acc: 0.7734 - val_loss: 0.6650 - val_acc: 0.7669\n",
            "Epoch 11/42\n",
            "2188/2188 [==============================] - 59s 27ms/step - loss: 0.6381 - acc: 0.7795 - val_loss: 0.6494 - val_acc: 0.7760\n",
            "Epoch 12/42\n",
            "2188/2188 [==============================] - 59s 27ms/step - loss: 0.6126 - acc: 0.7885 - val_loss: 0.6414 - val_acc: 0.7747\n",
            "Epoch 13/42\n",
            "2188/2188 [==============================] - 55s 25ms/step - loss: 0.5927 - acc: 0.7959 - val_loss: 0.6303 - val_acc: 0.7843\n",
            "Epoch 14/42\n",
            "2188/2188 [==============================] - 59s 27ms/step - loss: 0.5740 - acc: 0.8028 - val_loss: 0.6215 - val_acc: 0.7824\n",
            "Epoch 15/42\n",
            "2188/2188 [==============================] - 55s 25ms/step - loss: 0.5551 - acc: 0.8091 - val_loss: 0.6296 - val_acc: 0.7796\n",
            "Epoch 16/42\n",
            "2188/2188 [==============================] - 59s 27ms/step - loss: 0.5401 - acc: 0.8164 - val_loss: 0.6079 - val_acc: 0.7904\n",
            "Epoch 17/42\n",
            "2188/2188 [==============================] - 55s 25ms/step - loss: 0.5218 - acc: 0.8199 - val_loss: 0.6033 - val_acc: 0.7917\n",
            "Epoch 18/42\n",
            "2188/2188 [==============================] - 59s 27ms/step - loss: 0.5074 - acc: 0.8245 - val_loss: 0.6079 - val_acc: 0.7911\n",
            "Epoch 19/42\n",
            "2188/2188 [==============================] - 59s 27ms/step - loss: 0.4938 - acc: 0.8302 - val_loss: 0.5787 - val_acc: 0.7981\n",
            "Epoch 20/42\n",
            "2188/2188 [==============================] - 55s 25ms/step - loss: 0.4760 - acc: 0.8369 - val_loss: 0.5885 - val_acc: 0.7985\n",
            "Epoch 21/42\n",
            "2188/2188 [==============================] - 55s 25ms/step - loss: 0.4644 - acc: 0.8381 - val_loss: 0.5750 - val_acc: 0.8011\n",
            "Epoch 22/42\n",
            "2188/2188 [==============================] - 55s 25ms/step - loss: 0.4508 - acc: 0.8454 - val_loss: 0.5769 - val_acc: 0.7995\n",
            "Epoch 23/42\n",
            "2188/2188 [==============================] - 55s 25ms/step - loss: 0.4402 - acc: 0.8483 - val_loss: 0.5869 - val_acc: 0.7970\n",
            "Epoch 24/42\n",
            "2188/2188 [==============================] - 55s 25ms/step - loss: 0.4257 - acc: 0.8540 - val_loss: 0.5855 - val_acc: 0.7989\n",
            "Epoch 25/42\n",
            "2188/2188 [==============================] - 59s 27ms/step - loss: 0.4133 - acc: 0.8576 - val_loss: 0.5668 - val_acc: 0.8049\n",
            "Epoch 26/42\n",
            "2188/2188 [==============================] - 59s 27ms/step - loss: 0.4023 - acc: 0.8607 - val_loss: 0.5650 - val_acc: 0.8071\n",
            "Epoch 27/42\n",
            "2188/2188 [==============================] - 55s 25ms/step - loss: 0.3887 - acc: 0.8659 - val_loss: 0.5623 - val_acc: 0.8093\n",
            "Epoch 28/42\n",
            "2188/2188 [==============================] - 55s 25ms/step - loss: 0.3785 - acc: 0.8711 - val_loss: 0.5591 - val_acc: 0.8109\n",
            "Epoch 29/42\n",
            "2188/2188 [==============================] - 55s 25ms/step - loss: 0.3695 - acc: 0.8728 - val_loss: 0.5594 - val_acc: 0.8094\n",
            "Epoch 30/42\n",
            "2188/2188 [==============================] - 55s 25ms/step - loss: 0.3593 - acc: 0.8756 - val_loss: 0.5800 - val_acc: 0.8033\n",
            "Epoch 31/42\n",
            "2188/2188 [==============================] - 55s 25ms/step - loss: 0.3463 - acc: 0.8805 - val_loss: 0.5491 - val_acc: 0.8147\n",
            "Epoch 32/42\n",
            "2188/2188 [==============================] - 55s 25ms/step - loss: 0.3364 - acc: 0.8841 - val_loss: 0.6056 - val_acc: 0.8034\n",
            "Epoch 33/42\n",
            "2188/2188 [==============================] - 59s 27ms/step - loss: 0.3265 - acc: 0.8883 - val_loss: 0.5750 - val_acc: 0.8111\n",
            "Epoch 34/42\n",
            "2188/2188 [==============================] - 59s 27ms/step - loss: 0.3163 - acc: 0.8925 - val_loss: 0.5713 - val_acc: 0.8113\n",
            "Epoch 35/42\n",
            "2188/2188 [==============================] - 59s 27ms/step - loss: 0.3059 - acc: 0.8947 - val_loss: 0.5933 - val_acc: 0.8077\n",
            "Epoch 36/42\n",
            "2188/2188 [==============================] - 59s 27ms/step - loss: 0.2963 - acc: 0.9003 - val_loss: 0.5868 - val_acc: 0.8106\n",
            "Epoch 37/42\n",
            "2188/2188 [==============================] - 55s 25ms/step - loss: 0.2890 - acc: 0.9021 - val_loss: 0.5612 - val_acc: 0.8127\n",
            "Epoch 38/42\n",
            "2188/2188 [==============================] - 59s 27ms/step - loss: 0.2795 - acc: 0.9047 - val_loss: 0.5670 - val_acc: 0.8124\n",
            "Epoch 39/42\n",
            "2188/2188 [==============================] - 55s 25ms/step - loss: 0.2687 - acc: 0.9096 - val_loss: 0.5769 - val_acc: 0.8121\n",
            "Epoch 40/42\n",
            "2188/2188 [==============================] - 55s 25ms/step - loss: 0.2612 - acc: 0.9128 - val_loss: 0.6071 - val_acc: 0.8055\n",
            "Epoch 41/42\n",
            "2188/2188 [==============================] - 55s 25ms/step - loss: 0.2526 - acc: 0.9148 - val_loss: 0.5722 - val_acc: 0.8159\n",
            "Epoch 42/42\n",
            "2188/2188 [==============================] - 55s 25ms/step - loss: 0.2468 - acc: 0.9155 - val_loss: 0.5934 - val_acc: 0.8115\n"
          ],
          "name": "stdout"
        },
        {
          "output_type": "display_data",
          "data": {
            "image/png": "[encoded data removed]",
            "text/plain": [
              "<Figure size 432x288 with 1 Axes>"
            ]
          },
          "metadata": {
            "tags": [],
            "needs_background": "light"
          }
        },
        {
          "output_type": "display_data",
          "data": {
            "image/png": "[encoded data removed]",
            "text/plain": [
              "<Figure size 432x288 with 1 Axes>"
            ]
          },
          "metadata": {
            "tags": [],
            "needs_background": "light"
          }
        }
      ]
    },
    {
      "cell_type": "code",
      "metadata": {
        "id": "A75OC2C0wEnw",
        "colab": {
          "base_uri": "https://localhost:8080/"
        },
        "outputId": "d694c8cc-faa5-4b61-84a5-fab91814943d"
      },
      "source": [
        "model.summary()"
      ],
      "execution_count": null,
      "outputs": [
        {
          "output_type": "stream",
          "text": [
            "Model: \"sequential_1\"\n",
            "_________________________________________________________________\n",
            "Layer (type)                 Output Shape              Param #   \n",
            "=================================================================\n",
            "vgg16 (Functional)           (None, 1, 1, 512)         14714688  \n",
            "_________________________________________________________________\n",
            "flatten_1 (Flatten)          (None, 512)               0         \n",
            "_________________________________________________________________\n",
            "dense_2 (Dense)              (None, 256)               131328    \n",
            "_________________________________________________________________\n",
            "dropout_1 (Dropout)          (None, 256)               0         \n",
            "_________________________________________________________________\n",
            "dense_3 (Dense)              (None, 10)                2570      \n",
            "=================================================================\n",
            "Total params: 14,848,586\n",
            "Trainable params: 14,848,586\n",
            "Non-trainable params: 0\n",
            "_________________________________________________________________\n"
          ],
          "name": "stdout"
        }
      ]
    },
    {
      "cell_type": "code",
      "metadata": {
        "id": "Uo4bmPDAuZte"
      },
      "source": [
        ""
      ],
      "execution_count": null,
      "outputs": []
    }
  ]
}