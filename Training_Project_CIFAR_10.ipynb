{
  "nbformat": 4,
  "nbformat_minor": 0,
  "metadata": {
    "colab": {
      "name": "Training Project CIFAR-10.ipynb",
      "provenance": [],
      "collapsed_sections": [],
      "authorship_tag": "ABX9TyPLpO1LqEkcBTpX25QnEl8u",
      "include_colab_link": true
    },
    "kernelspec": {
      "name": "python3",
      "display_name": "Python 3"
    },
    "language_info": {
      "name": "python"
    },
    "accelerator": "GPU"
  },
  "cells": [
    {
      "cell_type": "markdown",
      "metadata": {
        "id": "view-in-github",
        "colab_type": "text"
      },
      "source": [
        "<a href=\"https://colab.research.google.com/github/LucasColas/Project-with-CIFAR-10/blob/main/Training_Project_CIFAR_10.ipynb\" target=\"_parent\"><img src=\"https://colab.research.google.com/assets/colab-badge.svg\" alt=\"Open In Colab\"/></a>"
      ]
    },
    {
      "cell_type": "code",
      "metadata": {
        "colab": {
          "base_uri": "https://localhost:8080/"
        },
        "id": "eLfXFTQGuR9P",
        "outputId": "65563a24-a7cd-4c7c-cba3-b686b9c39055"
      },
      "source": [
        "import matplotlib.pyplot as plt\n",
        "import numpy as np\n",
        "import tensorflow as tf\n",
        "from tensorflow import keras\n",
        "#from tensorflow.keras.applications import VGG16\n",
        "from tensorflow.keras import layers, models, optimizers, regularizers\n",
        "from tensorflow.keras.applications.vgg16 import VGG16\n",
        "\n",
        "VGG_model = VGG16(weights=\"imagenet\", include_top=False, input_shape=(32,32,3))\n",
        "VGG_model.summary()\n",
        "\n",
        "(X_train, y_train), (X_test, y_test) = keras.datasets.cifar10.load_data()\n",
        "X_train = X_train.astype('float32')\n",
        "X_test = X_test.astype('float32')\n",
        "print(X_train.dtype, y_train.shape, X_test.shape, y_test.shape)"
      ],
      "execution_count": 1,
      "outputs": [
        {
          "output_type": "stream",
          "text": [
            "Downloading data from https://storage.googleapis.com/tensorflow/keras-applications/vgg16/vgg16_weights_tf_dim_ordering_tf_kernels_notop.h5\n",
            "58892288/58889256 [==============================] - 0s 0us/step\n",
            "Model: \"vgg16\"\n",
            "_________________________________________________________________\n",
            "Layer (type)                 Output Shape              Param #   \n",
            "=================================================================\n",
            "input_1 (InputLayer)         [(None, 32, 32, 3)]       0         \n",
            "_________________________________________________________________\n",
            "block1_conv1 (Conv2D)        (None, 32, 32, 64)        1792      \n",
            "_________________________________________________________________\n",
            "block1_conv2 (Conv2D)        (None, 32, 32, 64)        36928     \n",
            "_________________________________________________________________\n",
            "block1_pool (MaxPooling2D)   (None, 16, 16, 64)        0         \n",
            "_________________________________________________________________\n",
            "block2_conv1 (Conv2D)        (None, 16, 16, 128)       73856     \n",
            "_________________________________________________________________\n",
            "block2_conv2 (Conv2D)        (None, 16, 16, 128)       147584    \n",
            "_________________________________________________________________\n",
            "block2_pool (MaxPooling2D)   (None, 8, 8, 128)         0         \n",
            "_________________________________________________________________\n",
            "block3_conv1 (Conv2D)        (None, 8, 8, 256)         295168    \n",
            "_________________________________________________________________\n",
            "block3_conv2 (Conv2D)        (None, 8, 8, 256)         590080    \n",
            "_________________________________________________________________\n",
            "block3_conv3 (Conv2D)        (None, 8, 8, 256)         590080    \n",
            "_________________________________________________________________\n",
            "block3_pool (MaxPooling2D)   (None, 4, 4, 256)         0         \n",
            "_________________________________________________________________\n",
            "block4_conv1 (Conv2D)        (None, 4, 4, 512)         1180160   \n",
            "_________________________________________________________________\n",
            "block4_conv2 (Conv2D)        (None, 4, 4, 512)         2359808   \n",
            "_________________________________________________________________\n",
            "block4_conv3 (Conv2D)        (None, 4, 4, 512)         2359808   \n",
            "_________________________________________________________________\n",
            "block4_pool (MaxPooling2D)   (None, 2, 2, 512)         0         \n",
            "_________________________________________________________________\n",
            "block5_conv1 (Conv2D)        (None, 2, 2, 512)         2359808   \n",
            "_________________________________________________________________\n",
            "block5_conv2 (Conv2D)        (None, 2, 2, 512)         2359808   \n",
            "_________________________________________________________________\n",
            "block5_conv3 (Conv2D)        (None, 2, 2, 512)         2359808   \n",
            "_________________________________________________________________\n",
            "block5_pool (MaxPooling2D)   (None, 1, 1, 512)         0         \n",
            "=================================================================\n",
            "Total params: 14,714,688\n",
            "Trainable params: 14,714,688\n",
            "Non-trainable params: 0\n",
            "_________________________________________________________________\n",
            "Downloading data from https://www.cs.toronto.edu/~kriz/cifar-10-python.tar.gz\n",
            "170500096/170498071 [==============================] - 4s 0us/step\n",
            "float32 (50000, 1) (10000, 32, 32, 3) (10000, 1)\n"
          ],
          "name": "stdout"
        }
      ]
    },
    {
      "cell_type": "code",
      "metadata": {
        "id": "nxMxJk2KuZzE"
      },
      "source": [
        "def sort_labels(y_train, y_test):\n",
        "\n",
        "    Y_train = np.zeros((50000,10))\n",
        "    Y_test = np.zeros((10000,10))\n",
        "    for index, label in enumerate(y_train):\n",
        "        Y_train[index, label] = 1\n",
        "\n",
        "    for index, label in enumerate(y_test):\n",
        "        Y_test[index, label] = 1\n",
        "\n",
        "\n",
        "    return Y_train, Y_test\n",
        "\n",
        "Y_train, Y_test = sort_labels(y_train, y_test)"
      ],
      "execution_count": 2,
      "outputs": []
    },
    {
      "cell_type": "code",
      "metadata": {
        "id": "QxvcPFqpf8ro"
      },
      "source": [
        "VGG_model.trainable = True\n",
        "set_trainable = False\n",
        "for layer in VGG_model.layers:\n",
        "  #print(layer.name)\n",
        "  if layer.name == 'block5_conv3':\n",
        "    set_trainable = True\n",
        "  \n",
        "  if set_trainable:\n",
        "    layer.trainable = True \n",
        "\n",
        "  else:\n",
        "    layer.trainable = False"
      ],
      "execution_count": 3,
      "outputs": []
    },
    {
      "cell_type": "code",
      "metadata": {
        "id": "LMODG_qcKiTV"
      },
      "source": [
        "X_train /= 255\n",
        "Y_train /= 255"
      ],
      "execution_count": 8,
      "outputs": []
    },
    {
      "cell_type": "code",
      "metadata": {
        "colab": {
          "base_uri": "https://localhost:8080/"
        },
        "id": "O_bs_U-5gMsB",
        "outputId": "fd08f71a-2e5b-4016-faaa-78895013c88f"
      },
      "source": [
        "model = models.Sequential()\n",
        "model.add(VGG_model)\n",
        "model.add(layers.Flatten())\n",
        "model.add(layers.Dense(256, activation='relu'))\n",
        "model.add(layers.Dropout(0.25))\n",
        "model.add(layers.Dense(10, activation='softmax'))\n",
        "\n",
        "lr = 0.01\n",
        "model.compile(loss=\"categorical_crossentropy\", optimizer=optimizers.SGD(lr), metrics=[\"acc\"])\n",
        "model.fit(X_train, Y_train, validation_split=0.25, batch_size=16, epochs=10, verbose=1)"
      ],
      "execution_count": 12,
      "outputs": [
        {
          "output_type": "stream",
          "text": [
            "Epoch 1/10\n",
            "2344/2344 [==============================] - 28s 12ms/step - loss: 0.0090 - acc: 0.0989 - val_loss: 0.0090 - val_acc: 0.1025\n",
            "Epoch 2/10\n",
            "2344/2344 [==============================] - 26s 11ms/step - loss: 0.0090 - acc: 0.0990 - val_loss: 0.0090 - val_acc: 0.0987\n",
            "Epoch 3/10\n",
            "2344/2344 [==============================] - 26s 11ms/step - loss: 0.0090 - acc: 0.0997 - val_loss: 0.0090 - val_acc: 0.0987\n",
            "Epoch 4/10\n",
            "2344/2344 [==============================] - 26s 11ms/step - loss: 0.0090 - acc: 0.1015 - val_loss: 0.0090 - val_acc: 0.1002\n",
            "Epoch 5/10\n",
            "2344/2344 [==============================] - 31s 13ms/step - loss: 0.0090 - acc: 0.0988 - val_loss: 0.0090 - val_acc: 0.0987\n",
            "Epoch 6/10\n",
            "2344/2344 [==============================] - 26s 11ms/step - loss: 0.0090 - acc: 0.0995 - val_loss: 0.0090 - val_acc: 0.0986\n",
            "Epoch 7/10\n",
            "2344/2344 [==============================] - 26s 11ms/step - loss: 0.0090 - acc: 0.0994 - val_loss: 0.0090 - val_acc: 0.1007\n",
            "Epoch 8/10\n",
            "2344/2344 [==============================] - 31s 13ms/step - loss: 0.0090 - acc: 0.1002 - val_loss: 0.0090 - val_acc: 0.0952\n",
            "Epoch 9/10\n",
            "2344/2344 [==============================] - 26s 11ms/step - loss: 0.0090 - acc: 0.0994 - val_loss: 0.0090 - val_acc: 0.0995\n",
            "Epoch 10/10\n",
            "2344/2344 [==============================] - 26s 11ms/step - loss: 0.0090 - acc: 0.0998 - val_loss: 0.0090 - val_acc: 0.0986\n"
          ],
          "name": "stdout"
        },
        {
          "output_type": "execute_result",
          "data": {
            "text/plain": [
              "<tensorflow.python.keras.callbacks.History at 0x7fc5ae6caad0>"
            ]
          },
          "metadata": {
            "tags": []
          },
          "execution_count": 12
        }
      ]
    },
    {
      "cell_type": "code",
      "metadata": {
        "id": "qssKQ0slOaOt"
      },
      "source": [
        "for layer in model.layers:\n",
        "  layer.trainable = True\n",
        "\n"
      ],
      "execution_count": 13,
      "outputs": []
    },
    {
      "cell_type": "code",
      "metadata": {
        "colab": {
          "base_uri": "https://localhost:8080/"
        },
        "id": "ul2q1YwUOjpI",
        "outputId": "1198b3f8-b6f6-4dff-b606-08cf5fb79b44"
      },
      "source": [
        "model.summary()"
      ],
      "execution_count": 14,
      "outputs": [
        {
          "output_type": "stream",
          "text": [
            "Model: \"sequential_3\"\n",
            "_________________________________________________________________\n",
            "Layer (type)                 Output Shape              Param #   \n",
            "=================================================================\n",
            "vgg16 (Functional)           (None, 1, 1, 512)         14714688  \n",
            "_________________________________________________________________\n",
            "flatten_3 (Flatten)          (None, 512)               0         \n",
            "_________________________________________________________________\n",
            "dense_6 (Dense)              (None, 256)               131328    \n",
            "_________________________________________________________________\n",
            "dropout_3 (Dropout)          (None, 256)               0         \n",
            "_________________________________________________________________\n",
            "dense_7 (Dense)              (None, 10)                2570      \n",
            "=================================================================\n",
            "Total params: 14,848,586\n",
            "Trainable params: 14,848,586\n",
            "Non-trainable params: 0\n",
            "_________________________________________________________________\n"
          ],
          "name": "stdout"
        }
      ]
    },
    {
      "cell_type": "code",
      "metadata": {
        "colab": {
          "base_uri": "https://localhost:8080/"
        },
        "id": "AdGRfcUXOoqp",
        "outputId": "79e97ebb-ef1f-4234-d32c-155851eee9fd"
      },
      "source": [
        "new_lr = 2e-5\n",
        "\n",
        "model.compile(loss=\"categorical_crossentropy\", optimizer=optimizers.SGD(new_lr), metrics=[\"acc\"])\n",
        "model.fit(X_train, Y_train, validation_split=0.25, batch_size=16, epochs=10, verbose=1)"
      ],
      "execution_count": 15,
      "outputs": [
        {
          "output_type": "stream",
          "text": [
            "Epoch 1/10\n",
            "2344/2344 [==============================] - 63s 27ms/step - loss: 0.0091 - acc: 0.1012 - val_loss: 0.0091 - val_acc: 0.1014\n",
            "Epoch 2/10\n",
            "2344/2344 [==============================] - 57s 24ms/step - loss: 0.0091 - acc: 0.0993 - val_loss: 0.0091 - val_acc: 0.1014\n",
            "Epoch 3/10\n",
            "2344/2344 [==============================] - 56s 24ms/step - loss: 0.0091 - acc: 0.1009 - val_loss: 0.0090 - val_acc: 0.1014\n",
            "Epoch 4/10\n",
            "2344/2344 [==============================] - 56s 24ms/step - loss: 0.0091 - acc: 0.1018 - val_loss: 0.0090 - val_acc: 0.1014\n",
            "Epoch 5/10\n",
            "2344/2344 [==============================] - 56s 24ms/step - loss: 0.0091 - acc: 0.1008 - val_loss: 0.0090 - val_acc: 0.1014\n",
            "Epoch 6/10\n",
            "2344/2344 [==============================] - 56s 24ms/step - loss: 0.0091 - acc: 0.1003 - val_loss: 0.0090 - val_acc: 0.1014\n",
            "Epoch 7/10\n",
            "2344/2344 [==============================] - 57s 24ms/step - loss: 0.0091 - acc: 0.0989 - val_loss: 0.0090 - val_acc: 0.1014\n",
            "Epoch 8/10\n",
            "2344/2344 [==============================] - 56s 24ms/step - loss: 0.0091 - acc: 0.1005 - val_loss: 0.0090 - val_acc: 0.1014\n",
            "Epoch 9/10\n",
            "2344/2344 [==============================] - 56s 24ms/step - loss: 0.0091 - acc: 0.1032 - val_loss: 0.0090 - val_acc: 0.1011\n",
            "Epoch 10/10\n",
            "2344/2344 [==============================] - 56s 24ms/step - loss: 0.0091 - acc: 0.0995 - val_loss: 0.0090 - val_acc: 0.1011\n"
          ],
          "name": "stdout"
        },
        {
          "output_type": "execute_result",
          "data": {
            "text/plain": [
              "<tensorflow.python.keras.callbacks.History at 0x7fc5ae6eb450>"
            ]
          },
          "metadata": {
            "tags": []
          },
          "execution_count": 15
        }
      ]
    },
    {
      "cell_type": "code",
      "metadata": {
        "id": "IT959QAJg-au"
      },
      "source": [
        "X_train /= 255\n",
        "\n",
        "\n",
        "model = models.Sequential()\n",
        "model.add(VGG_model)\n",
        "model.add(layers.Flatten())\n",
        "model.add(layers.Dense(256, activation='relu'))\n",
        "model.add(layers.Dropout(0.25))\n",
        "model.add(layers.Dense(10, activation='softmax'))"
      ],
      "execution_count": null,
      "outputs": []
    },
    {
      "cell_type": "code",
      "metadata": {
        "colab": {
          "base_uri": "https://localhost:8080/"
        },
        "id": "GQOOQ4fQg_ZJ",
        "outputId": "ed832fa0-5f9b-468d-8f1f-68c5968b89f1"
      },
      "source": [
        "model.summary()"
      ],
      "execution_count": null,
      "outputs": [
        {
          "output_type": "stream",
          "text": [
            "Model: \"sequential\"\n",
            "_________________________________________________________________\n",
            "Layer (type)                 Output Shape              Param #   \n",
            "=================================================================\n",
            "vgg16 (Functional)           (None, 1, 1, 512)         14714688  \n",
            "_________________________________________________________________\n",
            "flatten (Flatten)            (None, 512)               0         \n",
            "_________________________________________________________________\n",
            "dense (Dense)                (None, 256)               131328    \n",
            "_________________________________________________________________\n",
            "dropout (Dropout)            (None, 256)               0         \n",
            "_________________________________________________________________\n",
            "dense_1 (Dense)              (None, 10)                2570      \n",
            "=================================================================\n",
            "Total params: 14,848,586\n",
            "Trainable params: 2,493,706\n",
            "Non-trainable params: 12,354,880\n",
            "_________________________________________________________________\n"
          ],
          "name": "stdout"
        }
      ]
    },
    {
      "cell_type": "code",
      "metadata": {
        "colab": {
          "base_uri": "https://localhost:8080/",
          "height": 1000
        },
        "id": "ly_KG6yAuZwY",
        "outputId": "8f30baf1-e4e3-4728-c326-5c529d4c8632"
      },
      "source": [
        "\n",
        "\n",
        "\n",
        "model.compile(optimizer=optimizers.SGD(lr=0.01),loss=\"categorical_crossentropy\", metrics=[\"acc\"])\n",
        "history = model.fit(X_train, Y_train, batch_size=16, epochs=42, validation_split=(0.3))\n",
        "model.save(\"training.h5\")\n",
        "\n",
        "\n",
        "\n",
        "acc = history.history['acc']\n",
        "val_acc = history.history['val_acc']\n",
        "loss = history.history['loss']\n",
        "val_loss = history.history['val_loss']\n",
        "\n",
        "epochs = range(1,len(acc)+1)\n",
        "\n",
        "plt.plot(epochs,acc,'bo', label='Training acc')\n",
        "plt.plot(epochs, val_acc,'b', label='Validation acc')\n",
        "plt.title('Training and validation accuracy')\n",
        "plt.legend()\n",
        "\n",
        "plt.figure()\n",
        "\n",
        "plt.plot(epochs, loss, 'bo', label='Training loss')\n",
        "plt.plot(epochs, val_loss, 'b', label='Validation loss')\n",
        "plt.title('Training and validation loss')\n",
        "plt.legend()\n",
        "\n",
        "plt.show()\n"
      ],
      "execution_count": null,
      "outputs": [
        {
          "output_type": "stream",
          "text": [
            "/usr/local/lib/python3.7/dist-packages/tensorflow/python/keras/optimizer_v2/optimizer_v2.py:375: UserWarning: The `lr` argument is deprecated, use `learning_rate` instead.\n",
            "  \"The `lr` argument is deprecated, use `learning_rate` instead.\")\n"
          ],
          "name": "stderr"
        },
        {
          "output_type": "stream",
          "text": [
            "Epoch 1/42\n",
            "2188/2188 [==============================] - 26s 12ms/step - loss: 1.0626 - acc: 0.6297 - val_loss: 1.0915 - val_acc: 0.6166\n",
            "Epoch 2/42\n",
            "2188/2188 [==============================] - 25s 11ms/step - loss: 1.0093 - acc: 0.6475 - val_loss: 1.0467 - val_acc: 0.6335\n",
            "Epoch 3/42\n",
            "2188/2188 [==============================] - 25s 11ms/step - loss: 0.9690 - acc: 0.6595 - val_loss: 1.0261 - val_acc: 0.6416\n",
            "Epoch 4/42\n",
            "2188/2188 [==============================] - 25s 11ms/step - loss: 0.9356 - acc: 0.6679 - val_loss: 1.0663 - val_acc: 0.6307\n",
            "Epoch 5/42\n",
            "2188/2188 [==============================] - 30s 14ms/step - loss: 0.9012 - acc: 0.6809 - val_loss: 0.9726 - val_acc: 0.6591\n",
            "Epoch 6/42\n",
            "2188/2188 [==============================] - 30s 14ms/step - loss: 0.8802 - acc: 0.6907 - val_loss: 1.0240 - val_acc: 0.6414\n",
            "Epoch 7/42\n",
            "2188/2188 [==============================] - 25s 11ms/step - loss: 0.8555 - acc: 0.6983 - val_loss: 0.9648 - val_acc: 0.6607\n",
            "Epoch 8/42\n",
            "2188/2188 [==============================] - 30s 14ms/step - loss: 0.8368 - acc: 0.7038 - val_loss: 1.0815 - val_acc: 0.6370\n",
            "Epoch 9/42\n",
            "2188/2188 [==============================] - 25s 11ms/step - loss: 0.8066 - acc: 0.7139 - val_loss: 1.0035 - val_acc: 0.6505\n",
            "Epoch 10/42\n",
            "2188/2188 [==============================] - 30s 14ms/step - loss: 0.7853 - acc: 0.7228 - val_loss: 0.9305 - val_acc: 0.6804\n",
            "Epoch 11/42\n",
            "2188/2188 [==============================] - 30s 14ms/step - loss: 0.7624 - acc: 0.7281 - val_loss: 0.9726 - val_acc: 0.6690\n",
            "Epoch 12/42\n",
            "2188/2188 [==============================] - 30s 14ms/step - loss: 0.7425 - acc: 0.7363 - val_loss: 1.0152 - val_acc: 0.6550\n",
            "Epoch 13/42\n",
            "2188/2188 [==============================] - 25s 11ms/step - loss: 0.7270 - acc: 0.7392 - val_loss: 0.9599 - val_acc: 0.6717\n",
            "Epoch 14/42\n",
            "2188/2188 [==============================] - 30s 14ms/step - loss: 0.7093 - acc: 0.7469 - val_loss: 0.9441 - val_acc: 0.6815\n",
            "Epoch 15/42\n",
            "2188/2188 [==============================] - 30s 14ms/step - loss: 0.6848 - acc: 0.7551 - val_loss: 0.9749 - val_acc: 0.6736\n",
            "Epoch 16/42\n",
            "2188/2188 [==============================] - 30s 14ms/step - loss: 0.6670 - acc: 0.7620 - val_loss: 0.9609 - val_acc: 0.6785\n",
            "Epoch 17/42\n",
            "2188/2188 [==============================] - 25s 11ms/step - loss: 0.6488 - acc: 0.7705 - val_loss: 1.0932 - val_acc: 0.6430\n",
            "Epoch 18/42\n",
            "2188/2188 [==============================] - 30s 14ms/step - loss: 0.6305 - acc: 0.7761 - val_loss: 0.9856 - val_acc: 0.6796\n",
            "Epoch 19/42\n",
            "2188/2188 [==============================] - 25s 11ms/step - loss: 0.6128 - acc: 0.7785 - val_loss: 0.9697 - val_acc: 0.6787\n",
            "Epoch 20/42\n",
            "2188/2188 [==============================] - 25s 11ms/step - loss: 0.5928 - acc: 0.7856 - val_loss: 0.9621 - val_acc: 0.6859\n",
            "Epoch 21/42\n",
            "2188/2188 [==============================] - 25s 11ms/step - loss: 0.5784 - acc: 0.7920 - val_loss: 0.9778 - val_acc: 0.6786\n",
            "Epoch 22/42\n",
            "2188/2188 [==============================] - 25s 11ms/step - loss: 0.5584 - acc: 0.8019 - val_loss: 1.0005 - val_acc: 0.6757\n",
            "Epoch 23/42\n",
            "2188/2188 [==============================] - 30s 14ms/step - loss: 0.5428 - acc: 0.8050 - val_loss: 1.0517 - val_acc: 0.6710\n",
            "Epoch 24/42\n",
            "2188/2188 [==============================] - 25s 11ms/step - loss: 0.5263 - acc: 0.8133 - val_loss: 1.0631 - val_acc: 0.6687\n",
            "Epoch 25/42\n",
            "2188/2188 [==============================] - 30s 14ms/step - loss: 0.5095 - acc: 0.8178 - val_loss: 1.0509 - val_acc: 0.6701\n",
            "Epoch 26/42\n",
            "2188/2188 [==============================] - 30s 14ms/step - loss: 0.4931 - acc: 0.8233 - val_loss: 1.1015 - val_acc: 0.6658\n",
            "Epoch 27/42\n",
            "2188/2188 [==============================] - 30s 14ms/step - loss: 0.4841 - acc: 0.8266 - val_loss: 1.0198 - val_acc: 0.6860\n",
            "Epoch 28/42\n",
            "2188/2188 [==============================] - 30s 14ms/step - loss: 0.4612 - acc: 0.8332 - val_loss: 1.2094 - val_acc: 0.6491\n",
            "Epoch 29/42\n",
            "2188/2188 [==============================] - 25s 11ms/step - loss: 0.4497 - acc: 0.8361 - val_loss: 1.1989 - val_acc: 0.6617\n",
            "Epoch 30/42\n",
            "2188/2188 [==============================] - 30s 14ms/step - loss: 0.4303 - acc: 0.8466 - val_loss: 1.0802 - val_acc: 0.6844\n",
            "Epoch 31/42\n",
            "2188/2188 [==============================] - 25s 11ms/step - loss: 0.4201 - acc: 0.8480 - val_loss: 1.1480 - val_acc: 0.6683\n",
            "Epoch 32/42\n",
            "2188/2188 [==============================] - 25s 11ms/step - loss: 0.4095 - acc: 0.8522 - val_loss: 1.1784 - val_acc: 0.6715\n",
            "Epoch 33/42\n",
            "2188/2188 [==============================] - 25s 11ms/step - loss: 0.3945 - acc: 0.8549 - val_loss: 1.1103 - val_acc: 0.6805\n",
            "Epoch 34/42\n",
            "2188/2188 [==============================] - 25s 11ms/step - loss: 0.3811 - acc: 0.8605 - val_loss: 1.2258 - val_acc: 0.6650\n",
            "Epoch 35/42\n",
            "2188/2188 [==============================] - 25s 11ms/step - loss: 0.3702 - acc: 0.8654 - val_loss: 1.1724 - val_acc: 0.6800\n",
            "Epoch 36/42\n",
            "2188/2188 [==============================] - 25s 11ms/step - loss: 0.3547 - acc: 0.8725 - val_loss: 1.2194 - val_acc: 0.6764\n",
            "Epoch 37/42\n",
            "2188/2188 [==============================] - 25s 11ms/step - loss: 0.3405 - acc: 0.8753 - val_loss: 1.2383 - val_acc: 0.6686\n",
            "Epoch 38/42\n",
            "2188/2188 [==============================] - 25s 11ms/step - loss: 0.3333 - acc: 0.8779 - val_loss: 1.2252 - val_acc: 0.6795\n",
            "Epoch 39/42\n",
            "2188/2188 [==============================] - 30s 14ms/step - loss: 0.3203 - acc: 0.8829 - val_loss: 1.2168 - val_acc: 0.6834\n",
            "Epoch 40/42\n",
            "2188/2188 [==============================] - 30s 14ms/step - loss: 0.3102 - acc: 0.8862 - val_loss: 1.3334 - val_acc: 0.6587\n",
            "Epoch 41/42\n",
            "2188/2188 [==============================] - 25s 11ms/step - loss: 0.3051 - acc: 0.8888 - val_loss: 1.2388 - val_acc: 0.6785\n",
            "Epoch 42/42\n",
            "2188/2188 [==============================] - 25s 11ms/step - loss: 0.2856 - acc: 0.8963 - val_loss: 1.3359 - val_acc: 0.6707\n"
          ],
          "name": "stdout"
        },
        {
          "output_type": "display_data",
          "data": {
            "image/png": "[encoded data removed]",
            "text/plain": [
              "<Figure size 432x288 with 1 Axes>"
            ]
          },
          "metadata": {
            "tags": [],
            "needs_background": "light"
          }
        },
        {
          "output_type": "display_data",
          "data": {
            "image/png": "[encoded data removed]",
            "text/plain": [
              "<Figure size 432x288 with 1 Axes>"
            ]
          },
          "metadata": {
            "tags": [],
            "needs_background": "light"
          }
        }
      ]
    },
    {
      "cell_type": "code",
      "metadata": {
        "id": "A75OC2C0wEnw"
      },
      "source": [
        "model.summary()"
      ],
      "execution_count": null,
      "outputs": []
    },
    {
      "cell_type": "code",
      "metadata": {
        "id": "Uo4bmPDAuZte"
      },
      "source": [
        ""
      ],
      "execution_count": null,
      "outputs": []
    }
  ]
}